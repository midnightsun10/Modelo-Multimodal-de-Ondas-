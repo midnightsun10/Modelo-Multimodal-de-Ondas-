{
 "cells": [
  {
   "cell_type": "markdown",
   "id": "13ad00a5",
   "metadata": {},
   "source": [
    "### Climatologia y Anomalias"
   ]
  },
  {
   "cell_type": "code",
   "execution_count": 1,
   "id": "a2028054",
   "metadata": {},
   "outputs": [],
   "source": [
    "import os\n",
    "import gc\n",
    "import sys\n",
    "import glob\n",
    "import xarray as xr\n",
    "import pandas as pd\n",
    "import xesmf as xe\n",
    "import numpy as np\n",
    "sys.path.append(\"/home/brayan/mnsun/\")\n",
    "from utils import check_dir"
   ]
  },
  {
   "cell_type": "code",
   "execution_count": 2,
   "id": "33d8a456",
   "metadata": {},
   "outputs": [],
   "source": [
    "INPUT_DIR        = \"/home/brayan/DATA/Modelo-Multimodal-de-Ondas/process/ASCAT/\"\n",
    "init_date_update = \"2007-03-21\"\n",
    "end_date_update  = \"2018-12-31\"   "
   ]
  },
  {
   "cell_type": "code",
   "execution_count": 3,
   "id": "9e38377a",
   "metadata": {},
   "outputs": [],
   "source": [
    "file_ascat = []\n",
    "for year in range(int(init_date_update.split(\"-\")[0]), int(end_date_update.split(\"-\")[0])+1):\n",
    "    file_ascat += glob.glob(INPUT_DIR+f\"TAU/{str(year)}/*.nc\")"
   ]
  },
  {
   "cell_type": "code",
   "execution_count": 4,
   "id": "e3de46dc",
   "metadata": {},
   "outputs": [],
   "source": [
    "file_ascat.sort()"
   ]
  },
  {
   "cell_type": "code",
   "execution_count": 5,
   "id": "9feb2adb",
   "metadata": {},
   "outputs": [
    {
     "data": {
      "text/plain": [
       "['/home/brayan/DATA/Modelo-Multimodal-de-Ondas/process/ASCAT/TAU/2018/20181227.nc',\n",
       " '/home/brayan/DATA/Modelo-Multimodal-de-Ondas/process/ASCAT/TAU/2018/20181228.nc',\n",
       " '/home/brayan/DATA/Modelo-Multimodal-de-Ondas/process/ASCAT/TAU/2018/20181229.nc',\n",
       " '/home/brayan/DATA/Modelo-Multimodal-de-Ondas/process/ASCAT/TAU/2018/20181230.nc',\n",
       " '/home/brayan/DATA/Modelo-Multimodal-de-Ondas/process/ASCAT/TAU/2018/20181231.nc']"
      ]
     },
     "execution_count": 5,
     "metadata": {},
     "output_type": "execute_result"
    }
   ],
   "source": [
    "file_ascat[-5:]"
   ]
  },
  {
   "cell_type": "code",
   "execution_count": 6,
   "id": "ddc80727",
   "metadata": {},
   "outputs": [
    {
     "name": "stderr",
     "output_type": "stream",
     "text": [
      "/home/brayan/anaconda3/envs/pangeo/lib/python3.7/site-packages/ipykernel_launcher.py:1: FutureWarning: In xarray version 0.15 the default behaviour of `open_mfdataset`\n",
      "will change. To retain the existing behavior, pass\n",
      "combine='nested'. To use future default behavior, pass\n",
      "combine='by_coords'. See\n",
      "http://xarray.pydata.org/en/stable/combining.html#combining-multi\n",
      "\n",
      "  \"\"\"Entry point for launching an IPython kernel.\n",
      "/home/brayan/anaconda3/envs/pangeo/lib/python3.7/site-packages/xarray/backends/api.py:941: FutureWarning: Also `open_mfdataset` will no longer accept a `concat_dim` argument.\n",
      "To get equivalent behaviour from now on please use the new\n",
      "`combine_nested` function instead (or the `combine='nested'` option to\n",
      "`open_mfdataset`).The datasets supplied do not have global dimension coordinates. In\n",
      "future, to continue concatenating without supplying dimension\n",
      "coordinates, please use the new `combine_nested` function (or the\n",
      "`combine='nested'` option to open_mfdataset.\n",
      "  from_openmfds=True,\n"
     ]
    }
   ],
   "source": [
    "DS_ASCAT = xr.open_mfdataset(file_ascat, concat_dim=\"time\", parallel=True)"
   ]
  },
  {
   "cell_type": "code",
   "execution_count": 7,
   "id": "8d5ada83",
   "metadata": {},
   "outputs": [],
   "source": [
    "def Climatology_ANnomaly(data_, init_, end_):\n",
    "    interv_date     = f\"{init_}-01-01\",f\"{end_}-12-31\"\n",
    "    DATA_0          = data_.sel(time=slice(interv_date[0], interv_date[1])).resample(time=\"1MS\").mean(dim=\"time\")\n",
    "    DATA_0[\"time\"]  = pd.date_range( interv_date[0], interv_date[1], freq=\"MS\").shift(14, freq=\"D\")\n",
    "    DATA_1          = DATA_0-DATA_0.mean(dim=(\"time\"))\n",
    "    DATA_2          = DATA_1.groupby(\"time.month\").sum(dim=\"time\")/(DATA_0.time.shape[0]/12)\n",
    "    DATA_2_forward  = DATA_2.copy()\n",
    "    DATA_2_back     = DATA_2.copy()    \n",
    "    DATA_2_back[\"month\"]    = pd.date_range(\"1903-01-01\", \"1903-12-31\", freq=\"MS\").shift(14, freq=\"D\")\n",
    "    DATA_2[\"month\"]         = pd.date_range(\"1904-01-01\", \"1904-12-31\", freq=\"MS\").shift(14, freq=\"D\")\n",
    "    DATA_2_forward[\"month\"] = pd.date_range(\"1905-01-01\", \"1905-12-31\", freq=\"MS\").shift(14, freq=\"D\")\n",
    "    DATA_3          = xr.concat([DATA_2_back, DATA_2, DATA_2_forward], dim=\"month\").chunk(chunks={\"month\":36})\n",
    "    DATA_4          = DATA_3.interp( month=pd.date_range(\"1903-01-01\", \"1905-12-31\", freq=\"D\"), method=\"cubic\").sel(month=slice(\"1904-01-01\", \"1904-12-31\"))\n",
    "    DATA_4          = DATA_4.rename({\"month\":\"dayofyear\"})\n",
    "    DATA_4[\"dayofyear\"]     = np.arange(1, 366+1, 1, dtype=int)\n",
    "    DATA_5          = DATA_4.chunk(chunks={\"dayofyear\":1}) + DATA_0.mean(dim=(\"time\"))\n",
    "    ANOMALIAS       = data_.groupby(\"time.dayofyear\") - DATA_5\n",
    "    return ANOMALIAS, DATA_5"
   ]
  },
  {
   "cell_type": "code",
   "execution_count": 8,
   "id": "b52b4b35",
   "metadata": {},
   "outputs": [
    {
     "name": "stderr",
     "output_type": "stream",
     "text": [
      "/home/brayan/anaconda3/envs/pangeo/lib/python3.7/site-packages/numpy/core/_methods.py:151: RuntimeWarning: invalid value encountered in reduce\n",
      "  ret = umr_sum(arr, axis, dtype, out, keepdims)\n",
      "/home/brayan/anaconda3/envs/pangeo/lib/python3.7/site-packages/numpy/core/_methods.py:151: RuntimeWarning: invalid value encountered in reduce\n",
      "  ret = umr_sum(arr, axis, dtype, out, keepdims)\n",
      "/home/brayan/anaconda3/envs/pangeo/lib/python3.7/site-packages/numpy/core/_methods.py:151: RuntimeWarning: invalid value encountered in reduce\n",
      "  ret = umr_sum(arr, axis, dtype, out, keepdims)\n",
      "/home/brayan/anaconda3/envs/pangeo/lib/python3.7/site-packages/numpy/core/_methods.py:151: RuntimeWarning: invalid value encountered in reduce\n",
      "  ret = umr_sum(arr, axis, dtype, out, keepdims)\n",
      "/home/brayan/anaconda3/envs/pangeo/lib/python3.7/site-packages/numpy/core/_methods.py:151: RuntimeWarning: invalid value encountered in reduce\n",
      "  ret = umr_sum(arr, axis, dtype, out, keepdims)\n"
     ]
    }
   ],
   "source": [
    "TAUX_ANOM, TAUX_CLIM        = Climatology_ANnomaly( DS_ASCAT.taux, \"2008\", \"2014\")"
   ]
  },
  {
   "cell_type": "code",
   "execution_count": 9,
   "id": "f83b654b",
   "metadata": {},
   "outputs": [],
   "source": [
    "TAUY_ANOM, TAUY_CLIM        = Climatology_ANnomaly( DS_ASCAT.tauy, \"2008\", \"2014\")"
   ]
  },
  {
   "cell_type": "code",
   "execution_count": 14,
   "id": "dfa0b79d",
   "metadata": {},
   "outputs": [],
   "source": [
    "def create_xarray(data_, dim1, dim2, dim3, dim1_name, dim2_name, dim3_name):\n",
    "    \"\"\"\n",
    "    Se crea un xarray que tiene la siguiente estructura estandar:\n",
    "    'time, latitud, longitud'\n",
    "    \n",
    "    Output: Informacion de data_Xarray en formato float_32 [Xarray] \n",
    "    \"\"\"\n",
    "    Array  =  xr.DataArray( np.float32(data_) ,\n",
    "                            coords=[ dim1, dim2, dim3],\n",
    "                            dims=[ dim1_name, dim2_name, dim3_name])     \n",
    "    return Array"
   ]
  },
  {
   "cell_type": "code",
   "execution_count": 23,
   "id": "56e2ff04",
   "metadata": {},
   "outputs": [
    {
     "name": "stderr",
     "output_type": "stream",
     "text": [
      "/home/brayan/anaconda3/envs/pangeo/lib/python3.7/site-packages/dask/array/numpy_compat.py:40: RuntimeWarning: invalid value encountered in true_divide\n",
      "  x = np.divide(x1, x2, out)\n"
     ]
    },
    {
     "name": "stdout",
     "output_type": "stream",
     "text": [
      "pass\n"
     ]
    },
    {
     "name": "stderr",
     "output_type": "stream",
     "text": [
      "/home/brayan/anaconda3/envs/pangeo/lib/python3.7/site-packages/dask/array/numpy_compat.py:40: RuntimeWarning: invalid value encountered in true_divide\n",
      "  x = np.divide(x1, x2, out)\n"
     ]
    }
   ],
   "source": [
    "TAUX_ANOM_32 = create_xarray( TAUX_ANOM.interpolate_na(dim=\"lat\", method=\"nearest\", fill_value=\"extrapolate\").values, TAUX_ANOM.time, np.float32(TAUX_ANOM.lat), np.float32(TAUX_ANOM.lon), \"time\", \"lat\", \"lon\")\n",
    "print(\"pass\")\n",
    "TAUY_ANOM_32 = create_xarray( TAUY_ANOM.interpolate_na(dim=\"lat\", method=\"nearest\", fill_value=\"extrapolate\").values, TAUY_ANOM.time, np.float32(TAUY_ANOM.lat), np.float32(TAUY_ANOM.lon), \"time\", \"lat\", \"lon\")"
   ]
  },
  {
   "cell_type": "code",
   "execution_count": 25,
   "id": "e3f4fd26",
   "metadata": {},
   "outputs": [
    {
     "name": "stderr",
     "output_type": "stream",
     "text": [
      "/home/brayan/anaconda3/envs/pangeo/lib/python3.7/site-packages/dask/array/numpy_compat.py:40: RuntimeWarning: invalid value encountered in true_divide\n",
      "  x = np.divide(x1, x2, out)\n"
     ]
    },
    {
     "name": "stdout",
     "output_type": "stream",
     "text": [
      "pass\n"
     ]
    },
    {
     "name": "stderr",
     "output_type": "stream",
     "text": [
      "/home/brayan/anaconda3/envs/pangeo/lib/python3.7/site-packages/dask/array/numpy_compat.py:40: RuntimeWarning: invalid value encountered in true_divide\n",
      "  x = np.divide(x1, x2, out)\n"
     ]
    }
   ],
   "source": [
    "TAUX_CLIM_32 = create_xarray( TAUX_CLIM.interpolate_na(dim=\"lat\", method=\"nearest\", fill_value=\"extrapolate\").values, TAUX_CLIM.dayofyear, np.float32(TAUX_ANOM.lat), np.float32(TAUX_ANOM.lon), \"dayofyear\", \"lat\", \"lon\")\n",
    "print(\"pass\")\n",
    "TAUY_CLIM_32 = create_xarray( TAUY_CLIM.interpolate_na(dim=\"lat\", method=\"nearest\", fill_value=\"extrapolate\").values, TAUY_CLIM.dayofyear, np.float32(TAUY_ANOM.lat), np.float32(TAUY_ANOM.lon), \"dayofyear\", \"lat\", \"lon\")"
   ]
  },
  {
   "cell_type": "code",
   "execution_count": 28,
   "id": "6ba549a7",
   "metadata": {},
   "outputs": [],
   "source": [
    "DATASET_ANOM = xr.Dataset({\"ataux\": TAUX_ANOM_32, \"tauy\": TAUY_ANOM_32})\n",
    "DATASET_CLIM = xr.Dataset({\"clim_taux\": TAUX_CLIM_32, \"clim_tauy\": TAUY_CLIM_32})"
   ]
  },
  {
   "cell_type": "code",
   "execution_count": 30,
   "id": "e64d01d1",
   "metadata": {},
   "outputs": [],
   "source": [
    "for enum, date_val in enumerate(DATASET_ANOM.time.values):\n",
    "    check_dir(INPUT_DIR+\"ANOMALY/\" +str(date_val)[:4]+\"/\")\n",
    "    DATASET_ANOM.isel(time=enum).to_netcdf(INPUT_DIR+\"ANOMALY/\" +str(date_val)[:4]+\"/\"+\"\".join(str(date_val)[:10].split(\"-\"))+\".nc\")"
   ]
  },
  {
   "cell_type": "code",
   "execution_count": 29,
   "id": "becabe4c",
   "metadata": {},
   "outputs": [],
   "source": [
    "check_dir(INPUT_DIR+\"CLIMATOLOGY/\")\n",
    "DATASET_CLIM.to_netcdf(INPUT_DIR+\"CLIMATOLOGY/\" +\"TAU_CLIM.nc\")"
   ]
  },
  {
   "cell_type": "code",
   "execution_count": null,
   "id": "913a22f1",
   "metadata": {},
   "outputs": [],
   "source": []
  },
  {
   "cell_type": "code",
   "execution_count": null,
   "id": "1922405e",
   "metadata": {},
   "outputs": [],
   "source": []
  },
  {
   "cell_type": "code",
   "execution_count": null,
   "id": "0285a591",
   "metadata": {},
   "outputs": [],
   "source": []
  },
  {
   "cell_type": "code",
   "execution_count": null,
   "id": "e9856927",
   "metadata": {},
   "outputs": [],
   "source": []
  },
  {
   "cell_type": "code",
   "execution_count": null,
   "id": "9f472287",
   "metadata": {},
   "outputs": [],
   "source": []
  },
  {
   "cell_type": "code",
   "execution_count": null,
   "id": "9ee25fea",
   "metadata": {},
   "outputs": [],
   "source": []
  },
  {
   "cell_type": "code",
   "execution_count": null,
   "id": "cfcb7dc5",
   "metadata": {},
   "outputs": [],
   "source": []
  },
  {
   "cell_type": "code",
   "execution_count": null,
   "id": "60e4e670",
   "metadata": {},
   "outputs": [],
   "source": []
  }
 ],
 "metadata": {
  "kernelspec": {
   "display_name": "pangeo",
   "language": "python",
   "name": "pangeo"
  },
  "language_info": {
   "codemirror_mode": {
    "name": "ipython",
    "version": 3
   },
   "file_extension": ".py",
   "mimetype": "text/x-python",
   "name": "python",
   "nbconvert_exporter": "python",
   "pygments_lexer": "ipython3",
   "version": "3.7.6"
  }
 },
 "nbformat": 4,
 "nbformat_minor": 5
}
