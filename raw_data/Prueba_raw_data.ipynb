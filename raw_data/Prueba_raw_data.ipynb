{
 "cells": [
  {
   "cell_type": "markdown",
   "id": "6eff5eff",
   "metadata": {},
   "source": [
    "### Create script"
   ]
  },
  {
   "cell_type": "markdown",
   "id": "0a41d1b8",
   "metadata": {},
   "source": [
    "Para esta etapa se hace un procesamiento previo de extraccion de datos donde se elije solo la parte del Pacifico intertropical como dominio y tambien se selecciona las variables: \"surface_downward_eastward_stress\" y \"surface_downward_northward_stress\"."
   ]
  },
  {
   "cell_type": "code",
   "execution_count": 65,
   "id": "06503b0c",
   "metadata": {},
   "outputs": [],
   "source": [
    "import os\n",
    "import sys\n",
    "import pandas as pd\n",
    "sys.path.append(\"/home/brayan/mnsun/\")\n",
    "from utils import check_dir"
   ]
  },
  {
   "cell_type": "markdown",
   "id": "91654aa9",
   "metadata": {},
   "source": [
    "# BASE             = \"wget ftp://ftp.ifremer.fr/ifremer/cersat/products/gridded/MWF/L3/ASCAT/Daily/Netcdf/{year}/{month}/{day}/{year}{day}00* && bzip2 -d {month}/{day}/{year}{day}00*.bz2\"\n",
    "OUTPUT_DIR       = \"/home/brayan/DATA/Modelo-Multimodal-de-Ondas/\"\n",
    "init_date_update = \"2007-03-21\"\n",
    "end_date_update  = \"2007-03-31\""
   ]
  },
  {
   "cell_type": "code",
   "execution_count": 66,
   "id": "19e6e342",
   "metadata": {},
   "outputs": [],
   "source": [
    "def dates_download(init_, end_):\n",
    "    \n",
    "    \"\"\"\n",
    "    Esta funcion permite listar las fechas que seran utilizadas para la descarga.\n",
    "    \n",
    "    Input: \n",
    "            init_: fecha de inicio [string]\n",
    "            end_ : fecha final [string]\n",
    "    Output: \n",
    "            : fechas listadas [list]    \n",
    "    \"\"\"\n",
    "    \n",
    "    if init_ != end_:\n",
    "        dates_ = pd.date_range(init_, end_, freq=\"D\")\n",
    "    else:\n",
    "        dates_ = pd.date_range(init_, periods=1, freq=\"D\")\n",
    "        \n",
    "    return [str(i)[:10] for i in dates_.values]    "
   ]
  },
  {
   "cell_type": "code",
   "execution_count": 76,
   "id": "ee350746",
   "metadata": {},
   "outputs": [],
   "source": [
    "def build_sentences(list_dates_, output_):\n",
    "    \"\"\"\n",
    "    Fincion que permite crear las sentencias de descarga y descompresion en un archivo txt a partir del url fuente\n",
    "    \"\"\"\n",
    "    base_ = \"wget -cO - ftp://ftp.ifremer.fr/ifremer/cersat/products/gridded/MWF/L3/ASCAT/Daily/Netcdf/{year}/{month}/{day}/{year}{month}{day}00* > {output}/{year}/{year}{month}{day}00_daily-ifremer-L3-MWF-GLO.nc.bz2 && bzip2 -d ./{year}/{year}{month}{day}00*.bz2\"\n",
    "    #base_ = \"wget ftp://ftp.ifremer.fr/ifremer/cersat/products/gridded/MWF/L3/ASCAT/Daily/Netcdf/{year}/{month}/{day}/{year}{month}{day}00* && bzip2 -d ./{year}/{year}{day}00*.bz2\"\n",
    "    with open(output_ + \"download.txt\", \"w\") as f:        \n",
    "        for date_ in list_dates_:\n",
    "            print(date_)\n",
    "            check_dir(output_ +date_.split(\"-\")[0]+\"/\")\n",
    "            f.write(base_.format(year=date_.split(\"-\")[0], month=date_.split(\"-\")[1], day=date_.split(\"-\")[-1], output = output_)+ \"\\n\")"
   ]
  },
  {
   "cell_type": "code",
   "execution_count": 77,
   "id": "674278b9",
   "metadata": {},
   "outputs": [],
   "source": [
    "def main():\n",
    "    OUTPUT_DIR       = \"/home/brayan/DATA/Modelo-Multimodal-de-Ondas/raw_data/\"\n",
    "    init_date_update = \"2007-03-21\"\n",
    "    end_date_update  = \"2007-12-31\"    \n",
    "    build_sentences(dates_download(init_date_update, end_date_update) ,OUTPUT_DIR)"
   ]
  },
  {
   "cell_type": "markdown",
   "id": "bf519fd2",
   "metadata": {},
   "source": [
    "def __init__():\n",
    "    \n",
    "    OUTPUT_DIR       = \"/home/brayan/DATA/Modelo-Multimodal-de-Ondas/\"\n",
    "    init_date_update = \"2007-03-21\"\n",
    "    end_date_update  = \"2007-12-31\"\n",
    "    print(dates_download(init_date_update, end_date_update))\n",
    "    build_sentences(dates_download(init_date_update, end_date_update) ,OUTPUT_DIR)"
   ]
  },
  {
   "cell_type": "code",
   "execution_count": 78,
   "id": "8835b309",
   "metadata": {
    "collapsed": true,
    "jupyter": {
     "outputs_hidden": true
    }
   },
   "outputs": [
    {
     "name": "stdout",
     "output_type": "stream",
     "text": [
      "2007-03-21\n",
      "2007-03-22\n",
      "2007-03-23\n",
      "2007-03-24\n",
      "2007-03-25\n",
      "2007-03-26\n",
      "2007-03-27\n",
      "2007-03-28\n",
      "2007-03-29\n",
      "2007-03-30\n",
      "2007-03-31\n",
      "2007-04-01\n",
      "2007-04-02\n",
      "2007-04-03\n",
      "2007-04-04\n",
      "2007-04-05\n",
      "2007-04-06\n",
      "2007-04-07\n",
      "2007-04-08\n",
      "2007-04-09\n",
      "2007-04-10\n",
      "2007-04-11\n",
      "2007-04-12\n",
      "2007-04-13\n",
      "2007-04-14\n",
      "2007-04-15\n",
      "2007-04-16\n",
      "2007-04-17\n",
      "2007-04-18\n",
      "2007-04-19\n",
      "2007-04-20\n",
      "2007-04-21\n",
      "2007-04-22\n",
      "2007-04-23\n",
      "2007-04-24\n",
      "2007-04-25\n",
      "2007-04-26\n",
      "2007-04-27\n",
      "2007-04-28\n",
      "2007-04-29\n",
      "2007-04-30\n",
      "2007-05-01\n",
      "2007-05-02\n",
      "2007-05-03\n",
      "2007-05-04\n",
      "2007-05-05\n",
      "2007-05-06\n",
      "2007-05-07\n",
      "2007-05-08\n",
      "2007-05-09\n",
      "2007-05-10\n",
      "2007-05-11\n",
      "2007-05-12\n",
      "2007-05-13\n",
      "2007-05-14\n",
      "2007-05-15\n",
      "2007-05-16\n",
      "2007-05-17\n",
      "2007-05-18\n",
      "2007-05-19\n",
      "2007-05-20\n",
      "2007-05-21\n",
      "2007-05-22\n",
      "2007-05-23\n",
      "2007-05-24\n",
      "2007-05-25\n",
      "2007-05-26\n",
      "2007-05-27\n",
      "2007-05-28\n",
      "2007-05-29\n",
      "2007-05-30\n",
      "2007-05-31\n",
      "2007-06-01\n",
      "2007-06-02\n",
      "2007-06-03\n",
      "2007-06-04\n",
      "2007-06-05\n",
      "2007-06-06\n",
      "2007-06-07\n",
      "2007-06-08\n",
      "2007-06-09\n",
      "2007-06-10\n",
      "2007-06-11\n",
      "2007-06-12\n",
      "2007-06-13\n",
      "2007-06-14\n",
      "2007-06-15\n",
      "2007-06-16\n",
      "2007-06-17\n",
      "2007-06-18\n",
      "2007-06-19\n",
      "2007-06-20\n",
      "2007-06-21\n",
      "2007-06-22\n",
      "2007-06-23\n",
      "2007-06-24\n",
      "2007-06-25\n",
      "2007-06-26\n",
      "2007-06-27\n",
      "2007-06-28\n",
      "2007-06-29\n",
      "2007-06-30\n",
      "2007-07-01\n",
      "2007-07-02\n",
      "2007-07-03\n",
      "2007-07-04\n",
      "2007-07-05\n",
      "2007-07-06\n",
      "2007-07-07\n",
      "2007-07-08\n",
      "2007-07-09\n",
      "2007-07-10\n",
      "2007-07-11\n",
      "2007-07-12\n",
      "2007-07-13\n",
      "2007-07-14\n",
      "2007-07-15\n",
      "2007-07-16\n",
      "2007-07-17\n",
      "2007-07-18\n",
      "2007-07-19\n",
      "2007-07-20\n",
      "2007-07-21\n",
      "2007-07-22\n",
      "2007-07-23\n",
      "2007-07-24\n",
      "2007-07-25\n",
      "2007-07-26\n",
      "2007-07-27\n",
      "2007-07-28\n",
      "2007-07-29\n",
      "2007-07-30\n",
      "2007-07-31\n",
      "2007-08-01\n",
      "2007-08-02\n",
      "2007-08-03\n",
      "2007-08-04\n",
      "2007-08-05\n",
      "2007-08-06\n",
      "2007-08-07\n",
      "2007-08-08\n",
      "2007-08-09\n",
      "2007-08-10\n",
      "2007-08-11\n",
      "2007-08-12\n",
      "2007-08-13\n",
      "2007-08-14\n",
      "2007-08-15\n",
      "2007-08-16\n",
      "2007-08-17\n",
      "2007-08-18\n",
      "2007-08-19\n",
      "2007-08-20\n",
      "2007-08-21\n",
      "2007-08-22\n",
      "2007-08-23\n",
      "2007-08-24\n",
      "2007-08-25\n",
      "2007-08-26\n",
      "2007-08-27\n",
      "2007-08-28\n",
      "2007-08-29\n",
      "2007-08-30\n",
      "2007-08-31\n",
      "2007-09-01\n",
      "2007-09-02\n",
      "2007-09-03\n",
      "2007-09-04\n",
      "2007-09-05\n",
      "2007-09-06\n",
      "2007-09-07\n",
      "2007-09-08\n",
      "2007-09-09\n",
      "2007-09-10\n",
      "2007-09-11\n",
      "2007-09-12\n",
      "2007-09-13\n",
      "2007-09-14\n",
      "2007-09-15\n",
      "2007-09-16\n",
      "2007-09-17\n",
      "2007-09-18\n",
      "2007-09-19\n",
      "2007-09-20\n",
      "2007-09-21\n",
      "2007-09-22\n",
      "2007-09-23\n",
      "2007-09-24\n",
      "2007-09-25\n",
      "2007-09-26\n",
      "2007-09-27\n",
      "2007-09-28\n",
      "2007-09-29\n",
      "2007-09-30\n",
      "2007-10-01\n",
      "2007-10-02\n",
      "2007-10-03\n",
      "2007-10-04\n",
      "2007-10-05\n",
      "2007-10-06\n",
      "2007-10-07\n",
      "2007-10-08\n",
      "2007-10-09\n",
      "2007-10-10\n",
      "2007-10-11\n",
      "2007-10-12\n",
      "2007-10-13\n",
      "2007-10-14\n",
      "2007-10-15\n",
      "2007-10-16\n",
      "2007-10-17\n",
      "2007-10-18\n",
      "2007-10-19\n",
      "2007-10-20\n",
      "2007-10-21\n",
      "2007-10-22\n",
      "2007-10-23\n",
      "2007-10-24\n",
      "2007-10-25\n",
      "2007-10-26\n",
      "2007-10-27\n",
      "2007-10-28\n",
      "2007-10-29\n",
      "2007-10-30\n",
      "2007-10-31\n",
      "2007-11-01\n",
      "2007-11-02\n",
      "2007-11-03\n",
      "2007-11-04\n",
      "2007-11-05\n",
      "2007-11-06\n",
      "2007-11-07\n",
      "2007-11-08\n",
      "2007-11-09\n",
      "2007-11-10\n",
      "2007-11-11\n",
      "2007-11-12\n",
      "2007-11-13\n",
      "2007-11-14\n",
      "2007-11-15\n",
      "2007-11-16\n",
      "2007-11-17\n",
      "2007-11-18\n",
      "2007-11-19\n",
      "2007-11-20\n",
      "2007-11-21\n",
      "2007-11-22\n",
      "2007-11-23\n",
      "2007-11-24\n",
      "2007-11-25\n",
      "2007-11-26\n",
      "2007-11-27\n",
      "2007-11-28\n",
      "2007-11-29\n",
      "2007-11-30\n",
      "2007-12-01\n",
      "2007-12-02\n",
      "2007-12-03\n",
      "2007-12-04\n",
      "2007-12-05\n",
      "2007-12-06\n",
      "2007-12-07\n",
      "2007-12-08\n",
      "2007-12-09\n",
      "2007-12-10\n",
      "2007-12-11\n",
      "2007-12-12\n",
      "2007-12-13\n",
      "2007-12-14\n",
      "2007-12-15\n",
      "2007-12-16\n",
      "2007-12-17\n",
      "2007-12-18\n",
      "2007-12-19\n",
      "2007-12-20\n",
      "2007-12-21\n",
      "2007-12-22\n",
      "2007-12-23\n",
      "2007-12-24\n",
      "2007-12-25\n",
      "2007-12-26\n",
      "2007-12-27\n",
      "2007-12-28\n",
      "2007-12-29\n",
      "2007-12-30\n",
      "2007-12-31\n"
     ]
    }
   ],
   "source": [
    "if __name__ == \"__main__\":\n",
    "    main()"
   ]
  },
  {
   "cell_type": "markdown",
   "id": "b8f128df",
   "metadata": {},
   "source": [
    "### Modify file"
   ]
  },
  {
   "cell_type": "code",
   "execution_count": null,
   "id": "c79f3fd1",
   "metadata": {},
   "outputs": [],
   "source": [
    "import os\n",
    "import sys\n",
    "import pandas as pd\n",
    "sys.path.append(\"/home/brayan/mnsun/\")\n",
    "from utils import check_dir"
   ]
  },
  {
   "cell_type": "code",
   "execution_count": null,
   "id": "3a8e7f65",
   "metadata": {},
   "outputs": [],
   "source": []
  },
  {
   "cell_type": "code",
   "execution_count": null,
   "id": "ac3a3a29",
   "metadata": {},
   "outputs": [],
   "source": []
  },
  {
   "cell_type": "code",
   "execution_count": null,
   "id": "e7f94385",
   "metadata": {},
   "outputs": [],
   "source": []
  },
  {
   "cell_type": "code",
   "execution_count": null,
   "id": "c148a158",
   "metadata": {},
   "outputs": [],
   "source": []
  },
  {
   "cell_type": "code",
   "execution_count": null,
   "id": "73c23996",
   "metadata": {},
   "outputs": [],
   "source": []
  },
  {
   "cell_type": "code",
   "execution_count": null,
   "id": "60be37ac",
   "metadata": {},
   "outputs": [],
   "source": []
  },
  {
   "cell_type": "code",
   "execution_count": null,
   "id": "63aa9088",
   "metadata": {},
   "outputs": [],
   "source": []
  },
  {
   "cell_type": "code",
   "execution_count": 27,
   "id": "416439f9",
   "metadata": {},
   "outputs": [
    {
     "data": {
      "text/plain": [
       "'raw_data/2007/'"
      ]
     },
     "execution_count": 27,
     "metadata": {},
     "output_type": "execute_result"
    }
   ],
   "source": [
    "f\"raw_data/{B[0][:4]}/\""
   ]
  },
  {
   "cell_type": "code",
   "execution_count": 25,
   "id": "f1b91b38",
   "metadata": {},
   "outputs": [
    {
     "data": {
      "text/plain": [
       "'2007'"
      ]
     },
     "execution_count": 25,
     "metadata": {},
     "output_type": "execute_result"
    }
   ],
   "source": [
    "B[0].split(\"-\")[0]"
   ]
  },
  {
   "cell_type": "code",
   "execution_count": 11,
   "id": "f08e3713",
   "metadata": {},
   "outputs": [],
   "source": [
    "A = pd.date_range(init_date_update, end_date_update, freq=\"D\")"
   ]
  },
  {
   "cell_type": "code",
   "execution_count": 12,
   "id": "4109f7a6",
   "metadata": {},
   "outputs": [
    {
     "data": {
      "text/plain": [
       "DatetimeIndex(['2007-03-21', '2007-03-22', '2007-03-23', '2007-03-24',\n",
       "               '2007-03-25', '2007-03-26', '2007-03-27', '2007-03-28',\n",
       "               '2007-03-29', '2007-03-30', '2007-03-31'],\n",
       "              dtype='datetime64[ns]', freq='D')"
      ]
     },
     "execution_count": 12,
     "metadata": {},
     "output_type": "execute_result"
    }
   ],
   "source": [
    "A"
   ]
  },
  {
   "cell_type": "code",
   "execution_count": 22,
   "id": "d4b39c84",
   "metadata": {},
   "outputs": [],
   "source": [
    "B = [str(i)[:10] for i in A.values]"
   ]
  },
  {
   "cell_type": "code",
   "execution_count": null,
   "id": "f52128e5",
   "metadata": {},
   "outputs": [],
   "source": []
  }
 ],
 "metadata": {
  "kernelspec": {
   "display_name": "pangeo",
   "language": "python",
   "name": "pangeo"
  },
  "language_info": {
   "codemirror_mode": {
    "name": "ipython",
    "version": 3
   },
   "file_extension": ".py",
   "mimetype": "text/x-python",
   "name": "python",
   "nbconvert_exporter": "python",
   "pygments_lexer": "ipython3",
   "version": "3.7.6"
  }
 },
 "nbformat": 4,
 "nbformat_minor": 5
}
