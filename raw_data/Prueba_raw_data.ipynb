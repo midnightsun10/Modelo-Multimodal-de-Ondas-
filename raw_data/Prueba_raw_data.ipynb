{
 "cells": [
  {
   "cell_type": "markdown",
   "id": "080c3ff2",
   "metadata": {},
   "source": [
    "### Create script"
   ]
  },
  {
   "cell_type": "markdown",
   "id": "2eac0dcd",
   "metadata": {},
   "source": [
    "Para esta etapa se hace un procesamiento previo de extraccion de datos donde se elije solo la parte del Pacifico intertropical como dominio y tambien se selecciona las variables: \"surface_downward_eastward_stress\" y \"surface_downward_northward_stress\"."
   ]
  },
  {
   "cell_type": "code",
   "execution_count": 65,
   "id": "3e2e27a0",
   "metadata": {},
   "outputs": [],
   "source": [
    "import os\n",
    "import sys\n",
    "import pandas as pd\n",
    "sys.path.append(\"/home/brayan/mnsun/\")\n",
    "from utils import check_dir"
   ]
  },
  {
   "cell_type": "markdown",
   "id": "644f306c",
   "metadata": {},
   "source": [
    "# BASE             = \"wget ftp://ftp.ifremer.fr/ifremer/cersat/products/gridded/MWF/L3/ASCAT/Daily/Netcdf/{year}/{month}/{day}/{year}{day}00* && bzip2 -d {month}/{day}/{year}{day}00*.bz2\"\n",
    "OUTPUT_DIR       = \"/home/brayan/DATA/Modelo-Multimodal-de-Ondas/\"\n",
    "init_date_update = \"2007-03-21\"\n",
    "end_date_update  = \"2007-03-31\""
   ]
  },
  {
   "cell_type": "code",
   "execution_count": 66,
   "id": "e5ef6bc8",
   "metadata": {},
   "outputs": [],
   "source": [
    "def dates_download(init_, end_):\n",
    "    \n",
    "    \"\"\"\n",
    "    Esta funcion permite listar las fechas que seran utilizadas para la descarga.\n",
    "    \n",
    "    Input: \n",
    "            init_: fecha de inicio [string]\n",
    "            end_ : fecha final [string]\n",
    "    Output: \n",
    "            : fechas listadas [list]    \n",
    "    \"\"\"\n",
    "    \n",
    "    if init_ != end_:\n",
    "        dates_ = pd.date_range(init_, end_, freq=\"D\")\n",
    "    else:\n",
    "        dates_ = pd.date_range(init_, periods=1, freq=\"D\")\n",
    "        \n",
    "    return [str(i)[:10] for i in dates_.values]    "
   ]
  },
  {
   "cell_type": "code",
   "execution_count": 76,
   "id": "a6447f77",
   "metadata": {},
   "outputs": [],
   "source": [
    "def build_sentences(list_dates_, output_):\n",
    "    \"\"\"\n",
    "    Fincion que permite crear las sentencias de descarga y descompresion en un archivo txt a partir del url fuente\n",
    "    \"\"\"\n",
    "    base_ = \"wget -cO - ftp://ftp.ifremer.fr/ifremer/cersat/products/gridded/MWF/L3/ASCAT/Daily/Netcdf/{year}/{month}/{day}/{year}{month}{day}00* > {output}/{year}/{year}{month}{day}00_daily-ifremer-L3-MWF-GLO.nc.bz2 && bzip2 -d ./{year}/{year}{month}{day}00*.bz2\"\n",
    "    #base_ = \"wget ftp://ftp.ifremer.fr/ifremer/cersat/products/gridded/MWF/L3/ASCAT/Daily/Netcdf/{year}/{month}/{day}/{year}{month}{day}00* && bzip2 -d ./{year}/{year}{day}00*.bz2\"\n",
    "    with open(output_ + \"download.txt\", \"w\") as f:        \n",
    "        for date_ in list_dates_:\n",
    "            print(date_)\n",
    "            check_dir(output_ +date_.split(\"-\")[0]+\"/\")\n",
    "            f.write(base_.format(year=date_.split(\"-\")[0], month=date_.split(\"-\")[1], day=date_.split(\"-\")[-1], output = output_)+ \"\\n\")"
   ]
  },
  {
   "cell_type": "code",
   "execution_count": 77,
   "id": "ab908100",
   "metadata": {},
   "outputs": [],
   "source": [
    "def main():\n",
    "    OUTPUT_DIR       = \"/home/brayan/DATA/Modelo-Multimodal-de-Ondas/raw_data/\"\n",
    "    init_date_update = \"2007-03-21\"\n",
    "    end_date_update  = \"2007-12-31\"    \n",
    "    build_sentences(dates_download(init_date_update, end_date_update) ,OUTPUT_DIR)"
   ]
  },
  {
   "cell_type": "markdown",
   "id": "e62b63ab",
   "metadata": {},
   "source": [
    "def __init__():\n",
    "    \n",
    "    OUTPUT_DIR       = \"/home/brayan/DATA/Modelo-Multimodal-de-Ondas/\"\n",
    "    init_date_update = \"2007-03-21\"\n",
    "    end_date_update  = \"2007-12-31\"\n",
    "    print(dates_download(init_date_update, end_date_update))\n",
    "    build_sentences(dates_download(init_date_update, end_date_update) ,OUTPUT_DIR)"
   ]
  },
  {
   "cell_type": "code",
   "execution_count": 78,
   "id": "386cbcf5",
   "metadata": {
    "collapsed": true,
    "jupyter": {
     "outputs_hidden": true
    }
   },
   "outputs": [
    {
     "name": "stdout",
     "output_type": "stream",
     "text": [
      "2007-03-21\n",
      "2007-03-22\n",
      "2007-03-23\n",
      "2007-03-24\n",
      "2007-03-25\n",
      "2007-03-26\n",
      "2007-03-27\n",
      "2007-03-28\n",
      "2007-03-29\n",
      "2007-03-30\n",
      "2007-03-31\n",
      "2007-04-01\n",
      "2007-04-02\n",
      "2007-04-03\n",
      "2007-04-04\n",
      "2007-04-05\n",
      "2007-04-06\n",
      "2007-04-07\n",
      "2007-04-08\n",
      "2007-04-09\n",
      "2007-04-10\n",
      "2007-04-11\n",
      "2007-04-12\n",
      "2007-04-13\n",
      "2007-04-14\n",
      "2007-04-15\n",
      "2007-04-16\n",
      "2007-04-17\n",
      "2007-04-18\n",
      "2007-04-19\n",
      "2007-04-20\n",
      "2007-04-21\n",
      "2007-04-22\n",
      "2007-04-23\n",
      "2007-04-24\n",
      "2007-04-25\n",
      "2007-04-26\n",
      "2007-04-27\n",
      "2007-04-28\n",
      "2007-04-29\n",
      "2007-04-30\n",
      "2007-05-01\n",
      "2007-05-02\n",
      "2007-05-03\n",
      "2007-05-04\n",
      "2007-05-05\n",
      "2007-05-06\n",
      "2007-05-07\n",
      "2007-05-08\n",
      "2007-05-09\n",
      "2007-05-10\n",
      "2007-05-11\n",
      "2007-05-12\n",
      "2007-05-13\n",
      "2007-05-14\n",
      "2007-05-15\n",
      "2007-05-16\n",
      "2007-05-17\n",
      "2007-05-18\n",
      "2007-05-19\n",
      "2007-05-20\n",
      "2007-05-21\n",
      "2007-05-22\n",
      "2007-05-23\n",
      "2007-05-24\n",
      "2007-05-25\n",
      "2007-05-26\n",
      "2007-05-27\n",
      "2007-05-28\n",
      "2007-05-29\n",
      "2007-05-30\n",
      "2007-05-31\n",
      "2007-06-01\n",
      "2007-06-02\n",
      "2007-06-03\n",
      "2007-06-04\n",
      "2007-06-05\n",
      "2007-06-06\n",
      "2007-06-07\n",
      "2007-06-08\n",
      "2007-06-09\n",
      "2007-06-10\n",
      "2007-06-11\n",
      "2007-06-12\n",
      "2007-06-13\n",
      "2007-06-14\n",
      "2007-06-15\n",
      "2007-06-16\n",
      "2007-06-17\n",
      "2007-06-18\n",
      "2007-06-19\n",
      "2007-06-20\n",
      "2007-06-21\n",
      "2007-06-22\n",
      "2007-06-23\n",
      "2007-06-24\n",
      "2007-06-25\n",
      "2007-06-26\n",
      "2007-06-27\n",
      "2007-06-28\n",
      "2007-06-29\n",
      "2007-06-30\n",
      "2007-07-01\n",
      "2007-07-02\n",
      "2007-07-03\n",
      "2007-07-04\n",
      "2007-07-05\n",
      "2007-07-06\n",
      "2007-07-07\n",
      "2007-07-08\n",
      "2007-07-09\n",
      "2007-07-10\n",
      "2007-07-11\n",
      "2007-07-12\n",
      "2007-07-13\n",
      "2007-07-14\n",
      "2007-07-15\n",
      "2007-07-16\n",
      "2007-07-17\n",
      "2007-07-18\n",
      "2007-07-19\n",
      "2007-07-20\n",
      "2007-07-21\n",
      "2007-07-22\n",
      "2007-07-23\n",
      "2007-07-24\n",
      "2007-07-25\n",
      "2007-07-26\n",
      "2007-07-27\n",
      "2007-07-28\n",
      "2007-07-29\n",
      "2007-07-30\n",
      "2007-07-31\n",
      "2007-08-01\n",
      "2007-08-02\n",
      "2007-08-03\n",
      "2007-08-04\n",
      "2007-08-05\n",
      "2007-08-06\n",
      "2007-08-07\n",
      "2007-08-08\n",
      "2007-08-09\n",
      "2007-08-10\n",
      "2007-08-11\n",
      "2007-08-12\n",
      "2007-08-13\n",
      "2007-08-14\n",
      "2007-08-15\n",
      "2007-08-16\n",
      "2007-08-17\n",
      "2007-08-18\n",
      "2007-08-19\n",
      "2007-08-20\n",
      "2007-08-21\n",
      "2007-08-22\n",
      "2007-08-23\n",
      "2007-08-24\n",
      "2007-08-25\n",
      "2007-08-26\n",
      "2007-08-27\n",
      "2007-08-28\n",
      "2007-08-29\n",
      "2007-08-30\n",
      "2007-08-31\n",
      "2007-09-01\n",
      "2007-09-02\n",
      "2007-09-03\n",
      "2007-09-04\n",
      "2007-09-05\n",
      "2007-09-06\n",
      "2007-09-07\n",
      "2007-09-08\n",
      "2007-09-09\n",
      "2007-09-10\n",
      "2007-09-11\n",
      "2007-09-12\n",
      "2007-09-13\n",
      "2007-09-14\n",
      "2007-09-15\n",
      "2007-09-16\n",
      "2007-09-17\n",
      "2007-09-18\n",
      "2007-09-19\n",
      "2007-09-20\n",
      "2007-09-21\n",
      "2007-09-22\n",
      "2007-09-23\n",
      "2007-09-24\n",
      "2007-09-25\n",
      "2007-09-26\n",
      "2007-09-27\n",
      "2007-09-28\n",
      "2007-09-29\n",
      "2007-09-30\n",
      "2007-10-01\n",
      "2007-10-02\n",
      "2007-10-03\n",
      "2007-10-04\n",
      "2007-10-05\n",
      "2007-10-06\n",
      "2007-10-07\n",
      "2007-10-08\n",
      "2007-10-09\n",
      "2007-10-10\n",
      "2007-10-11\n",
      "2007-10-12\n",
      "2007-10-13\n",
      "2007-10-14\n",
      "2007-10-15\n",
      "2007-10-16\n",
      "2007-10-17\n",
      "2007-10-18\n",
      "2007-10-19\n",
      "2007-10-20\n",
      "2007-10-21\n",
      "2007-10-22\n",
      "2007-10-23\n",
      "2007-10-24\n",
      "2007-10-25\n",
      "2007-10-26\n",
      "2007-10-27\n",
      "2007-10-28\n",
      "2007-10-29\n",
      "2007-10-30\n",
      "2007-10-31\n",
      "2007-11-01\n",
      "2007-11-02\n",
      "2007-11-03\n",
      "2007-11-04\n",
      "2007-11-05\n",
      "2007-11-06\n",
      "2007-11-07\n",
      "2007-11-08\n",
      "2007-11-09\n",
      "2007-11-10\n",
      "2007-11-11\n",
      "2007-11-12\n",
      "2007-11-13\n",
      "2007-11-14\n",
      "2007-11-15\n",
      "2007-11-16\n",
      "2007-11-17\n",
      "2007-11-18\n",
      "2007-11-19\n",
      "2007-11-20\n",
      "2007-11-21\n",
      "2007-11-22\n",
      "2007-11-23\n",
      "2007-11-24\n",
      "2007-11-25\n",
      "2007-11-26\n",
      "2007-11-27\n",
      "2007-11-28\n",
      "2007-11-29\n",
      "2007-11-30\n",
      "2007-12-01\n",
      "2007-12-02\n",
      "2007-12-03\n",
      "2007-12-04\n",
      "2007-12-05\n",
      "2007-12-06\n",
      "2007-12-07\n",
      "2007-12-08\n",
      "2007-12-09\n",
      "2007-12-10\n",
      "2007-12-11\n",
      "2007-12-12\n",
      "2007-12-13\n",
      "2007-12-14\n",
      "2007-12-15\n",
      "2007-12-16\n",
      "2007-12-17\n",
      "2007-12-18\n",
      "2007-12-19\n",
      "2007-12-20\n",
      "2007-12-21\n",
      "2007-12-22\n",
      "2007-12-23\n",
      "2007-12-24\n",
      "2007-12-25\n",
      "2007-12-26\n",
      "2007-12-27\n",
      "2007-12-28\n",
      "2007-12-29\n",
      "2007-12-30\n",
      "2007-12-31\n"
     ]
    }
   ],
   "source": [
    "if __name__ == \"__main__\":\n",
    "    main()"
   ]
  },
  {
   "cell_type": "markdown",
   "id": "8c619db3",
   "metadata": {},
   "source": [
    "### Modify file"
   ]
  },
  {
   "cell_type": "code",
   "execution_count": 151,
   "id": "67c2cf9b",
   "metadata": {},
   "outputs": [],
   "source": [
    "import os\n",
    "#import sys\n",
    "import xarray as xr\n",
    "import glob\n",
    "import numpy as np\n",
    "import pandas as pd\n",
    "#sys.path.append(\"/home/brayan/mnsun/\")\n",
    "#from utils import check_dir"
   ]
  },
  {
   "cell_type": "code",
   "execution_count": 82,
   "id": "fc551f95",
   "metadata": {},
   "outputs": [],
   "source": [
    "def dates_download(init_, end_):\n",
    "    \n",
    "    \"\"\"\n",
    "    Esta funcion permite listar las fechas que seran utilizadas para la descarga.\n",
    "    \n",
    "    Input: \n",
    "            init_: fecha de inicio [string]\n",
    "            end_ : fecha final [string]\n",
    "    Output: \n",
    "            : fechas listadas [list]    \n",
    "    \"\"\"\n",
    "    \n",
    "    if init_ != end_:\n",
    "        dates_ = pd.date_range(init_, end_, freq=\"D\")\n",
    "    else:\n",
    "        dates_ = pd.date_range(init_, periods=1, freq=\"D\")\n",
    "        \n",
    "    return [str(i)[:10] for i in dates_.values]  "
   ]
  },
  {
   "cell_type": "code",
   "execution_count": 195,
   "id": "fe2a130f",
   "metadata": {},
   "outputs": [],
   "source": [
    "def create_xarray(data_, dim1, dim2, dim3, dim1_name, dim2_name, dim3_name):\n",
    "    \"\"\"\n",
    "    Se crea un xarray que tiene la siguiente estructura estandar:\n",
    "    'time, latitud, longitud'\n",
    "    \n",
    "    Output: Informacion de data_Xarray en formato float_32 [Xarray] \n",
    "    \"\"\"\n",
    "    Array  =  xr.DataArray( np.float32(data_) ,\n",
    "                            coords=[ dim1, dim2, dim3],\n",
    "                            dims=[ dim1_name, dim2_name, dim3_name])     \n",
    "    return Array"
   ]
  },
  {
   "cell_type": "code",
   "execution_count": 96,
   "id": "d2b2df7d",
   "metadata": {},
   "outputs": [],
   "source": [
    "OUTPUT_DIR       = \"/home/brayan/DATA/Modelo-Multimodal-de-Ondas/raw_data/\"\n",
    "init_date_update = \"2007-03-21\"\n",
    "end_date_update  = \"2007-03-24\"   "
   ]
  },
  {
   "cell_type": "code",
   "execution_count": 154,
   "id": "ffd269e1",
   "metadata": {},
   "outputs": [],
   "source": [
    "list_ncs   = [glob.glob(OUTPUT_DIR+\"TAU/\"+date_.split(\"-\")[0]+\"/\"+\"\".join(date_.split(\"-\"))+\"*\")[0] for date_ in dates_download(init_date_update, end_date_update)]\n",
    "list_dates = dates_download(init_date_update, end_date_update)"
   ]
  },
  {
   "cell_type": "code",
   "execution_count": 218,
   "id": "c1852483",
   "metadata": {},
   "outputs": [],
   "source": [
    "for file_nc, list_date in zip(list_ncs, list_dates):\n",
    "    NC   = xr.open_dataset(file_nc)\n",
    "    TAUX = getattr(NC,\"surface_downward_eastward_stress\")\n",
    "    TAUY = getattr(NC,\"surface_downward_northward_stress\")\n",
    "    date    = pd.date_range( list_date, periods=1, freq=\"D\")\n",
    "    lon_old = np.roll(TAUX.longitude.values, int(TAUX.shape[-1]/2))\n",
    "    \n",
    "    TAUX_32 = create_xarray( np.roll(TAUX.values.reshape(1,TAUX.latitude.shape[0], lon_old.shape[0]), int(TAUX.shape[-1]/2), axis=-1) ,\n",
    "                             date, TAUX.latitude.values, np.where( lon_old < 0, lon_old + 360, lon_old), \n",
    "                             \"time\", \"lat\", \"lon\").sel(lat=slice(-30.5, 30.5), lon=slice(89.5, 300.5))\n",
    "    TAUY_32 = create_xarray( np.roll(TAUY.values.reshape(1,TAUX.latitude.shape[0], lon_old.shape[0]), int(TAUX.shape[-1]/2), axis=-1) ,\n",
    "                             date, TAUX.latitude.values, np.where( lon_old < 0, lon_old + 360, lon_old), \n",
    "                             \"time\", \"lat\", \"lon\").sel(lat=slice(-30.5, 30.5), lon=slice(89.5, 300.5))\n",
    "    DATASET = xr.Dataset({\"taux\": TAUX_32, \"tauy\": TAUY_32})\n",
    "    DATASET.to_netcdf(file_nc.split(\"00_\")[0]+\".nc\")\n",
    "    \n",
    "    "
   ]
  },
  {
   "cell_type": "code",
   "execution_count": null,
   "id": "69f13a45",
   "metadata": {},
   "outputs": [],
   "source": []
  },
  {
   "cell_type": "code",
   "execution_count": null,
   "id": "f7167514",
   "metadata": {},
   "outputs": [],
   "source": []
  },
  {
   "cell_type": "code",
   "execution_count": null,
   "id": "63bb0e4f",
   "metadata": {},
   "outputs": [],
   "source": []
  },
  {
   "cell_type": "code",
   "execution_count": null,
   "id": "650cdaaa",
   "metadata": {},
   "outputs": [],
   "source": []
  },
  {
   "cell_type": "code",
   "execution_count": null,
   "id": "f2c487a3",
   "metadata": {},
   "outputs": [],
   "source": []
  },
  {
   "cell_type": "code",
   "execution_count": 215,
   "id": "a2369928",
   "metadata": {},
   "outputs": [
    {
     "data": {
      "text/plain": [
       "'/home/brayan/DATA/Modelo-Multimodal-de-Ondas/raw_data/TAU/2007/2007032100_daily-ifremer-L3-MWF-GLO.nc'"
      ]
     },
     "execution_count": 215,
     "metadata": {},
     "output_type": "execute_result"
    }
   ],
   "source": [
    "list_ncs[0]"
   ]
  },
  {
   "cell_type": "code",
   "execution_count": 217,
   "id": "f031b838",
   "metadata": {},
   "outputs": [
    {
     "data": {
      "text/plain": [
       "['/home/brayan/DATA/Modelo-Multimodal-de-Ondas/raw_data/TAU/2007/20070321',\n",
       " 'daily-ifremer-L3-MWF-GLO.nc']"
      ]
     },
     "execution_count": 217,
     "metadata": {},
     "output_type": "execute_result"
    }
   ],
   "source": [
    "list_ncs[0].split(\"00_\")"
   ]
  },
  {
   "cell_type": "code",
   "execution_count": null,
   "id": "b2f81bb6",
   "metadata": {},
   "outputs": [],
   "source": []
  },
  {
   "cell_type": "code",
   "execution_count": 162,
   "id": "4922f6a3",
   "metadata": {},
   "outputs": [],
   "source": [
    "NC = xr.open_dataset(list_ncs[0])"
   ]
  },
  {
   "cell_type": "code",
   "execution_count": 163,
   "id": "29a04969",
   "metadata": {},
   "outputs": [],
   "source": [
    "TAUX = getattr(NC,\"surface_downward_eastward_stress\")"
   ]
  },
  {
   "cell_type": "code",
   "execution_count": 164,
   "id": "283b9ff7",
   "metadata": {},
   "outputs": [],
   "source": [
    "TAUY = getattr(NC,\"surface_downward_northward_stress\")"
   ]
  },
  {
   "cell_type": "code",
   "execution_count": 204,
   "id": "ff674497",
   "metadata": {},
   "outputs": [],
   "source": [
    "date    = pd.date_range(list_dates[0], periods=1, freq=\"D\")\n",
    "lon_old = np.roll(TAUX.longitude.values, int(TAUX.shape[-1]/2))"
   ]
  },
  {
   "cell_type": "code",
   "execution_count": 205,
   "id": "5dc66598",
   "metadata": {},
   "outputs": [],
   "source": [
    "TAUX_32 = create_xarray( np.roll(TAUX.values.reshape(1,TAUX.latitude.shape[0], lon_old.shape[0]), int(TAUX.shape[-1]/2), axis=-1) ,\n",
    "                         date, TAUX.latitude.values, np.where( lon_old < 0, lon_old + 360, lon_old), \n",
    "                         \"time\", \"lat\", \"lon\").sel(lat=slice(-30.5, 30.5), lon=slice(89.5, 300.5))"
   ]
  },
  {
   "cell_type": "code",
   "execution_count": 207,
   "id": "46cedc6f",
   "metadata": {},
   "outputs": [],
   "source": [
    "TAUY_32 = create_xarray( np.roll(TAUY.values.reshape(1,TAUX.latitude.shape[0], lon_old.shape[0]), int(TAUX.shape[-1]/2), axis=-1) ,\n",
    "                         date, TAUX.latitude.values, np.where( lon_old < 0, lon_old + 360, lon_old), \n",
    "                         \"time\", \"lat\", \"lon\").sel(lat=slice(-30.5, 30.5), lon=slice(89.5, 300.5))"
   ]
  },
  {
   "cell_type": "code",
   "execution_count": 212,
   "id": "a0aae1b7",
   "metadata": {},
   "outputs": [],
   "source": [
    "DATASET = xr.Dataset({\"taux\": TAUX_32, \"tauy\": TAUY_32})"
   ]
  },
  {
   "cell_type": "code",
   "execution_count": 213,
   "id": "070bcb16",
   "metadata": {},
   "outputs": [
    {
     "data": {
      "text/html": [
       "<div><svg style=\"position: absolute; width: 0; height: 0; overflow: hidden\">\n",
       "<defs>\n",
       "<symbol id=\"icon-database\" viewBox=\"0 0 32 32\">\n",
       "<title>Show/Hide data repr</title>\n",
       "<path d=\"M16 0c-8.837 0-16 2.239-16 5v4c0 2.761 7.163 5 16 5s16-2.239 16-5v-4c0-2.761-7.163-5-16-5z\"></path>\n",
       "<path d=\"M16 17c-8.837 0-16-2.239-16-5v6c0 2.761 7.163 5 16 5s16-2.239 16-5v-6c0 2.761-7.163 5-16 5z\"></path>\n",
       "<path d=\"M16 26c-8.837 0-16-2.239-16-5v6c0 2.761 7.163 5 16 5s16-2.239 16-5v-6c0 2.761-7.163 5-16 5z\"></path>\n",
       "</symbol>\n",
       "<symbol id=\"icon-file-text2\" viewBox=\"0 0 32 32\">\n",
       "<title>Show/Hide attributes</title>\n",
       "<path d=\"M28.681 7.159c-0.694-0.947-1.662-2.053-2.724-3.116s-2.169-2.030-3.116-2.724c-1.612-1.182-2.393-1.319-2.841-1.319h-15.5c-1.378 0-2.5 1.121-2.5 2.5v27c0 1.378 1.122 2.5 2.5 2.5h23c1.378 0 2.5-1.122 2.5-2.5v-19.5c0-0.448-0.137-1.23-1.319-2.841zM24.543 5.457c0.959 0.959 1.712 1.825 2.268 2.543h-4.811v-4.811c0.718 0.556 1.584 1.309 2.543 2.268zM28 29.5c0 0.271-0.229 0.5-0.5 0.5h-23c-0.271 0-0.5-0.229-0.5-0.5v-27c0-0.271 0.229-0.5 0.5-0.5 0 0 15.499-0 15.5 0v7c0 0.552 0.448 1 1 1h7v19.5z\"></path>\n",
       "<path d=\"M23 26h-14c-0.552 0-1-0.448-1-1s0.448-1 1-1h14c0.552 0 1 0.448 1 1s-0.448 1-1 1z\"></path>\n",
       "<path d=\"M23 22h-14c-0.552 0-1-0.448-1-1s0.448-1 1-1h14c0.552 0 1 0.448 1 1s-0.448 1-1 1z\"></path>\n",
       "<path d=\"M23 18h-14c-0.552 0-1-0.448-1-1s0.448-1 1-1h14c0.552 0 1 0.448 1 1s-0.448 1-1 1z\"></path>\n",
       "</symbol>\n",
       "</defs>\n",
       "</svg>\n",
       "<style>/* CSS stylesheet for displaying xarray objects in jupyterlab.\n",
       " *\n",
       " */\n",
       "\n",
       ":root {\n",
       "  --xr-font-color0: var(--jp-content-font-color0, rgba(0, 0, 0, 1));\n",
       "  --xr-font-color2: var(--jp-content-font-color2, rgba(0, 0, 0, 0.54));\n",
       "  --xr-font-color3: var(--jp-content-font-color3, rgba(0, 0, 0, 0.38));\n",
       "  --xr-border-color: var(--jp-border-color2, #e0e0e0);\n",
       "  --xr-disabled-color: var(--jp-layout-color3, #bdbdbd);\n",
       "  --xr-background-color: var(--jp-layout-color0, white);\n",
       "  --xr-background-color-row-even: var(--jp-layout-color1, white);\n",
       "  --xr-background-color-row-odd: var(--jp-layout-color2, #eeeeee);\n",
       "}\n",
       "\n",
       ".xr-wrap {\n",
       "  min-width: 300px;\n",
       "  max-width: 700px;\n",
       "}\n",
       "\n",
       ".xr-header {\n",
       "  padding-top: 6px;\n",
       "  padding-bottom: 6px;\n",
       "  margin-bottom: 4px;\n",
       "  border-bottom: solid 1px var(--xr-border-color);\n",
       "}\n",
       "\n",
       ".xr-header > div,\n",
       ".xr-header > ul {\n",
       "  display: inline;\n",
       "  margin-top: 0;\n",
       "  margin-bottom: 0;\n",
       "}\n",
       "\n",
       ".xr-obj-type,\n",
       ".xr-array-name {\n",
       "  margin-left: 2px;\n",
       "  margin-right: 10px;\n",
       "}\n",
       "\n",
       ".xr-obj-type {\n",
       "  color: var(--xr-font-color2);\n",
       "}\n",
       "\n",
       ".xr-sections {\n",
       "  padding-left: 0 !important;\n",
       "  display: grid;\n",
       "  grid-template-columns: 150px auto auto 1fr 20px 20px;\n",
       "}\n",
       "\n",
       ".xr-section-item {\n",
       "  display: contents;\n",
       "}\n",
       "\n",
       ".xr-section-item input {\n",
       "  display: none;\n",
       "}\n",
       "\n",
       ".xr-section-item input + label {\n",
       "  color: var(--xr-disabled-color);\n",
       "}\n",
       "\n",
       ".xr-section-item input:enabled + label {\n",
       "  cursor: pointer;\n",
       "  color: var(--xr-font-color2);\n",
       "}\n",
       "\n",
       ".xr-section-item input:enabled + label:hover {\n",
       "  color: var(--xr-font-color0);\n",
       "}\n",
       "\n",
       ".xr-section-summary {\n",
       "  grid-column: 1;\n",
       "  color: var(--xr-font-color2);\n",
       "  font-weight: 500;\n",
       "}\n",
       "\n",
       ".xr-section-summary > span {\n",
       "  display: inline-block;\n",
       "  padding-left: 0.5em;\n",
       "}\n",
       "\n",
       ".xr-section-summary-in:disabled + label {\n",
       "  color: var(--xr-font-color2);\n",
       "}\n",
       "\n",
       ".xr-section-summary-in + label:before {\n",
       "  display: inline-block;\n",
       "  content: '►';\n",
       "  font-size: 11px;\n",
       "  width: 15px;\n",
       "  text-align: center;\n",
       "}\n",
       "\n",
       ".xr-section-summary-in:disabled + label:before {\n",
       "  color: var(--xr-disabled-color);\n",
       "}\n",
       "\n",
       ".xr-section-summary-in:checked + label:before {\n",
       "  content: '▼';\n",
       "}\n",
       "\n",
       ".xr-section-summary-in:checked + label > span {\n",
       "  display: none;\n",
       "}\n",
       "\n",
       ".xr-section-summary,\n",
       ".xr-section-inline-details {\n",
       "  padding-top: 4px;\n",
       "  padding-bottom: 4px;\n",
       "}\n",
       "\n",
       ".xr-section-inline-details {\n",
       "  grid-column: 2 / -1;\n",
       "}\n",
       "\n",
       ".xr-section-details {\n",
       "  display: none;\n",
       "  grid-column: 1 / -1;\n",
       "  margin-bottom: 5px;\n",
       "}\n",
       "\n",
       ".xr-section-summary-in:checked ~ .xr-section-details {\n",
       "  display: contents;\n",
       "}\n",
       "\n",
       ".xr-array-wrap {\n",
       "  grid-column: 1 / -1;\n",
       "  display: grid;\n",
       "  grid-template-columns: 20px auto;\n",
       "}\n",
       "\n",
       ".xr-array-wrap > label {\n",
       "  grid-column: 1;\n",
       "  vertical-align: top;\n",
       "}\n",
       "\n",
       ".xr-preview {\n",
       "  color: var(--xr-font-color3);\n",
       "}\n",
       "\n",
       ".xr-array-preview,\n",
       ".xr-array-data {\n",
       "  padding: 0 5px !important;\n",
       "  grid-column: 2;\n",
       "}\n",
       "\n",
       ".xr-array-data,\n",
       ".xr-array-in:checked ~ .xr-array-preview {\n",
       "  display: none;\n",
       "}\n",
       "\n",
       ".xr-array-in:checked ~ .xr-array-data,\n",
       ".xr-array-preview {\n",
       "  display: inline-block;\n",
       "}\n",
       "\n",
       ".xr-dim-list {\n",
       "  display: inline-block !important;\n",
       "  list-style: none;\n",
       "  padding: 0 !important;\n",
       "  margin: 0;\n",
       "}\n",
       "\n",
       ".xr-dim-list li {\n",
       "  display: inline-block;\n",
       "  padding: 0;\n",
       "  margin: 0;\n",
       "}\n",
       "\n",
       ".xr-dim-list:before {\n",
       "  content: '(';\n",
       "}\n",
       "\n",
       ".xr-dim-list:after {\n",
       "  content: ')';\n",
       "}\n",
       "\n",
       ".xr-dim-list li:not(:last-child):after {\n",
       "  content: ',';\n",
       "  padding-right: 5px;\n",
       "}\n",
       "\n",
       ".xr-has-index {\n",
       "  font-weight: bold;\n",
       "}\n",
       "\n",
       ".xr-var-list,\n",
       ".xr-var-item {\n",
       "  display: contents;\n",
       "}\n",
       "\n",
       ".xr-var-item > div,\n",
       ".xr-var-item label,\n",
       ".xr-var-item > .xr-var-name span {\n",
       "  background-color: var(--xr-background-color-row-even);\n",
       "  margin-bottom: 0;\n",
       "}\n",
       "\n",
       ".xr-var-item > .xr-var-name:hover span {\n",
       "  padding-right: 5px;\n",
       "}\n",
       "\n",
       ".xr-var-list > li:nth-child(odd) > div,\n",
       ".xr-var-list > li:nth-child(odd) > label,\n",
       ".xr-var-list > li:nth-child(odd) > .xr-var-name span {\n",
       "  background-color: var(--xr-background-color-row-odd);\n",
       "}\n",
       "\n",
       ".xr-var-name {\n",
       "  grid-column: 1;\n",
       "}\n",
       "\n",
       ".xr-var-dims {\n",
       "  grid-column: 2;\n",
       "}\n",
       "\n",
       ".xr-var-dtype {\n",
       "  grid-column: 3;\n",
       "  text-align: right;\n",
       "  color: var(--xr-font-color2);\n",
       "}\n",
       "\n",
       ".xr-var-preview {\n",
       "  grid-column: 4;\n",
       "}\n",
       "\n",
       ".xr-var-name,\n",
       ".xr-var-dims,\n",
       ".xr-var-dtype,\n",
       ".xr-preview,\n",
       ".xr-attrs dt {\n",
       "  white-space: nowrap;\n",
       "  overflow: hidden;\n",
       "  text-overflow: ellipsis;\n",
       "  padding-right: 10px;\n",
       "}\n",
       "\n",
       ".xr-var-name:hover,\n",
       ".xr-var-dims:hover,\n",
       ".xr-var-dtype:hover,\n",
       ".xr-attrs dt:hover {\n",
       "  overflow: visible;\n",
       "  width: auto;\n",
       "  z-index: 1;\n",
       "}\n",
       "\n",
       ".xr-var-attrs,\n",
       ".xr-var-data {\n",
       "  display: none;\n",
       "  background-color: var(--xr-background-color) !important;\n",
       "  padding-bottom: 5px !important;\n",
       "}\n",
       "\n",
       ".xr-var-attrs-in:checked ~ .xr-var-attrs,\n",
       ".xr-var-data-in:checked ~ .xr-var-data {\n",
       "  display: block;\n",
       "}\n",
       "\n",
       ".xr-var-data > table {\n",
       "  float: right;\n",
       "}\n",
       "\n",
       ".xr-var-name span,\n",
       ".xr-var-data,\n",
       ".xr-attrs {\n",
       "  padding-left: 25px !important;\n",
       "}\n",
       "\n",
       ".xr-attrs,\n",
       ".xr-var-attrs,\n",
       ".xr-var-data {\n",
       "  grid-column: 1 / -1;\n",
       "}\n",
       "\n",
       "dl.xr-attrs {\n",
       "  padding: 0;\n",
       "  margin: 0;\n",
       "  display: grid;\n",
       "  grid-template-columns: 125px auto;\n",
       "}\n",
       "\n",
       ".xr-attrs dt, dd {\n",
       "  padding: 0;\n",
       "  margin: 0;\n",
       "  float: left;\n",
       "  padding-right: 10px;\n",
       "  width: auto;\n",
       "}\n",
       "\n",
       ".xr-attrs dt {\n",
       "  font-weight: normal;\n",
       "  grid-column: 1;\n",
       "}\n",
       "\n",
       ".xr-attrs dt:hover span {\n",
       "  display: inline-block;\n",
       "  background: var(--xr-background-color);\n",
       "  padding-right: 10px;\n",
       "}\n",
       "\n",
       ".xr-attrs dd {\n",
       "  grid-column: 2;\n",
       "  white-space: pre-wrap;\n",
       "  word-break: break-all;\n",
       "}\n",
       "\n",
       ".xr-icon-database,\n",
       ".xr-icon-file-text2 {\n",
       "  display: inline-block;\n",
       "  vertical-align: middle;\n",
       "  width: 1em;\n",
       "  height: 1.5em !important;\n",
       "  stroke-width: 0;\n",
       "  stroke: currentColor;\n",
       "  fill: currentColor;\n",
       "}\n",
       "</style><div class='xr-wrap'><div class='xr-header'><div class='xr-obj-type'>xarray.Dataset</div></div><ul class='xr-sections'><li class='xr-section-item'><input id='section-0b0cc5c3-0655-4649-a811-e9f16e0ba506' class='xr-section-summary-in' type='checkbox' disabled ><label for='section-0b0cc5c3-0655-4649-a811-e9f16e0ba506' class='xr-section-summary'  title='Expand/collapse section'>Dimensions:</label><div class='xr-section-inline-details'><ul class='xr-dim-list'><li><span class='xr-has-index'>lat</span>: 244</li><li><span class='xr-has-index'>lon</span>: 844</li><li><span class='xr-has-index'>time</span>: 1</li></ul></div><div class='xr-section-details'></div></li><li class='xr-section-item'><input id='section-a4717240-8c62-4125-bdce-b869415c76fc' class='xr-section-summary-in' type='checkbox'  checked><label for='section-a4717240-8c62-4125-bdce-b869415c76fc' class='xr-section-summary' >Coordinates: <span>(3)</span></label><div class='xr-section-inline-details'></div><div class='xr-section-details'><ul class='xr-var-list'><li class='xr-var-item'><div class='xr-var-name'><span class='xr-has-index'>time</span></div><div class='xr-var-dims'>(time)</div><div class='xr-var-dtype'>datetime64[ns]</div><div class='xr-var-preview xr-preview'>2007-03-21</div><input id='attrs-ff08b47c-ffa5-483d-a253-ae1960634ab1' class='xr-var-attrs-in' type='checkbox' disabled><label for='attrs-ff08b47c-ffa5-483d-a253-ae1960634ab1' title='Show/Hide attributes'><svg class='icon xr-icon-file-text2'><use xlink:href='#icon-file-text2'></use></svg></label><input id='data-eb6381b7-9d51-4d94-98da-fec27866830e' class='xr-var-data-in' type='checkbox'><label for='data-eb6381b7-9d51-4d94-98da-fec27866830e' title='Show/Hide data repr'><svg class='icon xr-icon-database'><use xlink:href='#icon-database'></use></svg></label><div class='xr-var-attrs'><dl class='xr-attrs'></dl></div><pre class='xr-var-data'>array([&#x27;2007-03-21T00:00:00.000000000&#x27;], dtype=&#x27;datetime64[ns]&#x27;)</pre></li><li class='xr-var-item'><div class='xr-var-name'><span class='xr-has-index'>lat</span></div><div class='xr-var-dims'>(lat)</div><div class='xr-var-dtype'>float32</div><div class='xr-var-preview xr-preview'>-30.375 -30.125 ... 30.125 30.375</div><input id='attrs-6dcaceed-d3c5-4352-88df-2231c5635dce' class='xr-var-attrs-in' type='checkbox' disabled><label for='attrs-6dcaceed-d3c5-4352-88df-2231c5635dce' title='Show/Hide attributes'><svg class='icon xr-icon-file-text2'><use xlink:href='#icon-file-text2'></use></svg></label><input id='data-1e37c60a-f05e-41d0-a12a-58bbf74525f9' class='xr-var-data-in' type='checkbox'><label for='data-1e37c60a-f05e-41d0-a12a-58bbf74525f9' title='Show/Hide data repr'><svg class='icon xr-icon-database'><use xlink:href='#icon-database'></use></svg></label><div class='xr-var-attrs'><dl class='xr-attrs'></dl></div><pre class='xr-var-data'>array([-30.375, -30.125, -29.875, ...,  29.875,  30.125,  30.375],\n",
       "      dtype=float32)</pre></li><li class='xr-var-item'><div class='xr-var-name'><span class='xr-has-index'>lon</span></div><div class='xr-var-dims'>(lon)</div><div class='xr-var-dtype'>float32</div><div class='xr-var-preview xr-preview'>89.625 89.875 ... 300.125 300.375</div><input id='attrs-2109a8ee-cad5-41b2-ac28-88a74834dba7' class='xr-var-attrs-in' type='checkbox' disabled><label for='attrs-2109a8ee-cad5-41b2-ac28-88a74834dba7' title='Show/Hide attributes'><svg class='icon xr-icon-file-text2'><use xlink:href='#icon-file-text2'></use></svg></label><input id='data-76536ae9-0070-49ed-a025-95fefdb31aac' class='xr-var-data-in' type='checkbox'><label for='data-76536ae9-0070-49ed-a025-95fefdb31aac' title='Show/Hide data repr'><svg class='icon xr-icon-database'><use xlink:href='#icon-database'></use></svg></label><div class='xr-var-attrs'><dl class='xr-attrs'></dl></div><pre class='xr-var-data'>array([ 89.625,  89.875,  90.125, ..., 299.875, 300.125, 300.375],\n",
       "      dtype=float32)</pre></li></ul></div></li><li class='xr-section-item'><input id='section-d20cfe4d-e019-4be3-9c61-eabb2e2ce75b' class='xr-section-summary-in' type='checkbox'  checked><label for='section-d20cfe4d-e019-4be3-9c61-eabb2e2ce75b' class='xr-section-summary' >Data variables: <span>(2)</span></label><div class='xr-section-inline-details'></div><div class='xr-section-details'><ul class='xr-var-list'><li class='xr-var-item'><div class='xr-var-name'><span>taux</span></div><div class='xr-var-dims'>(time, lat, lon)</div><div class='xr-var-dtype'>float32</div><div class='xr-var-preview xr-preview'>-0.0317 -0.0324 ... -0.112799995</div><input id='attrs-4fcf870a-96ea-4c86-b152-77e7a369dfe4' class='xr-var-attrs-in' type='checkbox' disabled><label for='attrs-4fcf870a-96ea-4c86-b152-77e7a369dfe4' title='Show/Hide attributes'><svg class='icon xr-icon-file-text2'><use xlink:href='#icon-file-text2'></use></svg></label><input id='data-1f2fb141-cf87-4e45-9784-36f6872ced09' class='xr-var-data-in' type='checkbox'><label for='data-1f2fb141-cf87-4e45-9784-36f6872ced09' title='Show/Hide data repr'><svg class='icon xr-icon-database'><use xlink:href='#icon-database'></use></svg></label><div class='xr-var-attrs'><dl class='xr-attrs'></dl></div><pre class='xr-var-data'>array([[[-0.0317    , -0.0324    , -0.0285    , ...,         nan,\n",
       "                 nan,         nan],\n",
       "        [-0.031     , -0.0286    , -0.0315    , ...,         nan,\n",
       "                 nan,         nan],\n",
       "        [-0.028     , -0.028     , -0.0289    , ...,         nan,\n",
       "                 nan,         nan],\n",
       "        ...,\n",
       "        [        nan,         nan,         nan, ..., -0.09      ,\n",
       "         -0.09779999, -0.0957    ],\n",
       "        [        nan,         nan,         nan, ..., -0.0945    ,\n",
       "         -0.1095    , -0.1054    ],\n",
       "        [        nan,         nan,         nan, ..., -0.1039    ,\n",
       "         -0.1142    , -0.11279999]]], dtype=float32)</pre></li><li class='xr-var-item'><div class='xr-var-name'><span>tauy</span></div><div class='xr-var-dims'>(time, lat, lon)</div><div class='xr-var-dtype'>float32</div><div class='xr-var-preview xr-preview'>0.0356 0.035099998 ... -0.117199995</div><input id='attrs-fb686ab6-1306-43e7-8910-4e8f2abf9daf' class='xr-var-attrs-in' type='checkbox' disabled><label for='attrs-fb686ab6-1306-43e7-8910-4e8f2abf9daf' title='Show/Hide attributes'><svg class='icon xr-icon-file-text2'><use xlink:href='#icon-file-text2'></use></svg></label><input id='data-2e5fc828-f062-4c5b-b3f1-a97baa461e8f' class='xr-var-data-in' type='checkbox'><label for='data-2e5fc828-f062-4c5b-b3f1-a97baa461e8f' title='Show/Hide data repr'><svg class='icon xr-icon-database'><use xlink:href='#icon-database'></use></svg></label><div class='xr-var-attrs'><dl class='xr-attrs'></dl></div><pre class='xr-var-data'>array([[[ 0.0356    ,  0.0351    ,  0.0341    , ...,         nan,\n",
       "                 nan,         nan],\n",
       "        [ 0.0375    ,  0.0361    ,  0.0351    , ...,         nan,\n",
       "                 nan,         nan],\n",
       "        [ 0.0438    ,  0.0405    ,  0.0371    , ...,         nan,\n",
       "                 nan,         nan],\n",
       "        ...,\n",
       "        [        nan,         nan,         nan, ..., -0.096     ,\n",
       "         -0.1064    , -0.0972    ],\n",
       "        [        nan,         nan,         nan, ..., -0.1129    ,\n",
       "         -0.11669999, -0.11009999],\n",
       "        [        nan,         nan,         nan, ..., -0.1179    ,\n",
       "         -0.1245    , -0.11719999]]], dtype=float32)</pre></li></ul></div></li><li class='xr-section-item'><input id='section-46a9b466-ce5d-4ecb-9b95-65647999baaf' class='xr-section-summary-in' type='checkbox' disabled ><label for='section-46a9b466-ce5d-4ecb-9b95-65647999baaf' class='xr-section-summary'  title='Expand/collapse section'>Attributes: <span>(0)</span></label><div class='xr-section-inline-details'></div><div class='xr-section-details'><dl class='xr-attrs'></dl></div></li></ul></div></div>"
      ],
      "text/plain": [
       "<xarray.Dataset>\n",
       "Dimensions:  (lat: 244, lon: 844, time: 1)\n",
       "Coordinates:\n",
       "  * time     (time) datetime64[ns] 2007-03-21\n",
       "  * lat      (lat) float32 -30.375 -30.125 -29.875 ... 29.875 30.125 30.375\n",
       "  * lon      (lon) float32 89.625 89.875 90.125 ... 299.875 300.125 300.375\n",
       "Data variables:\n",
       "    taux     (time, lat, lon) float32 -0.0317 -0.0324 ... -0.112799995\n",
       "    tauy     (time, lat, lon) float32 0.0356 0.035099998 ... -0.117199995"
      ]
     },
     "execution_count": 213,
     "metadata": {},
     "output_type": "execute_result"
    }
   ],
   "source": [
    "DATASET.to_netcdf()"
   ]
  },
  {
   "cell_type": "code",
   "execution_count": null,
   "id": "4c4e33f0",
   "metadata": {},
   "outputs": [],
   "source": []
  },
  {
   "cell_type": "code",
   "execution_count": null,
   "id": "39675afb",
   "metadata": {},
   "outputs": [],
   "source": []
  },
  {
   "cell_type": "code",
   "execution_count": null,
   "id": "6e320fa3",
   "metadata": {},
   "outputs": [],
   "source": []
  },
  {
   "cell_type": "code",
   "execution_count": 208,
   "id": "4aae9532",
   "metadata": {},
   "outputs": [
    {
     "data": {
      "text/plain": [
       "<matplotlib.collections.QuadMesh at 0x7f1d63da8950>"
      ]
     },
     "execution_count": 208,
     "metadata": {},
     "output_type": "execute_result"
    },
    {
     "data": {
      "image/png": "[encoded data removed]",
      "text/plain": [
       "<Figure size 432x288 with 2 Axes>"
      ]
     },
     "metadata": {
      "needs_background": "light"
     },
     "output_type": "display_data"
    }
   ],
   "source": [
    "TAUY_32.plot()"
   ]
  },
  {
   "cell_type": "code",
   "execution_count": null,
   "id": "82c9e33f",
   "metadata": {},
   "outputs": [],
   "source": []
  },
  {
   "cell_type": "code",
   "execution_count": null,
   "id": "bd069ae6",
   "metadata": {},
   "outputs": [],
   "source": []
  },
  {
   "cell_type": "code",
   "execution_count": 173,
   "id": "7ebd1841",
   "metadata": {},
   "outputs": [
    {
     "data": {
      "text/plain": [
       "(641,)"
      ]
     },
     "execution_count": 173,
     "metadata": {},
     "output_type": "execute_result"
    }
   ],
   "source": [
    "TAUX.latitude.values.shape"
   ]
  },
  {
   "cell_type": "code",
   "execution_count": 174,
   "id": "a7c2719f",
   "metadata": {},
   "outputs": [
    {
     "data": {
      "text/plain": [
       "(1440,)"
      ]
     },
     "execution_count": 174,
     "metadata": {},
     "output_type": "execute_result"
    }
   ],
   "source": [
    "np.where( lon_old < 0, lon_old + 360, lon_old).shape"
   ]
  },
  {
   "cell_type": "code",
   "execution_count": null,
   "id": "6bcdbdf8",
   "metadata": {},
   "outputs": [],
   "source": []
  },
  {
   "cell_type": "code",
   "execution_count": 165,
   "id": "c56d249b",
   "metadata": {},
   "outputs": [
    {
     "data": {
      "text/plain": [
       "(1, 1, 641, 1440)"
      ]
     },
     "execution_count": 165,
     "metadata": {},
     "output_type": "execute_result"
    }
   ],
   "source": [
    "TAUX.shape"
   ]
  },
  {
   "cell_type": "code",
   "execution_count": 167,
   "id": "bb933189",
   "metadata": {
    "collapsed": true,
    "jupyter": {
     "outputs_hidden": true
    }
   },
   "outputs": [
    {
     "data": {
      "text/plain": [
       "array([-79.875, -79.625, -79.375, -79.125, -78.875, -78.625, -78.375,\n",
       "       -78.125, -77.875, -77.625, -77.375, -77.125, -76.875, -76.625,\n",
       "       -76.375, -76.125, -75.875, -75.625, -75.375, -75.125, -74.875,\n",
       "       -74.625, -74.375, -74.125, -73.875, -73.625, -73.375, -73.125,\n",
       "       -72.875, -72.625, -72.375, -72.125, -71.875, -71.625, -71.375,\n",
       "       -71.125, -70.875, -70.625, -70.375, -70.125, -69.875, -69.625,\n",
       "       -69.375, -69.125, -68.875, -68.625, -68.375, -68.125, -67.875,\n",
       "       -67.625, -67.375, -67.125, -66.875, -66.625, -66.375, -66.125,\n",
       "       -65.875, -65.625, -65.375, -65.125, -64.875, -64.625, -64.375,\n",
       "       -64.125, -63.875, -63.625, -63.375, -63.125, -62.875, -62.625,\n",
       "       -62.375, -62.125, -61.875, -61.625, -61.375, -61.125, -60.875,\n",
       "       -60.625, -60.375, -60.125, -59.875, -59.625, -59.375, -59.125,\n",
       "       -58.875, -58.625, -58.375, -58.125, -57.875, -57.625, -57.375,\n",
       "       -57.125, -56.875, -56.625, -56.375, -56.125, -55.875, -55.625,\n",
       "       -55.375, -55.125, -54.875, -54.625, -54.375, -54.125, -53.875,\n",
       "       -53.625, -53.375, -53.125, -52.875, -52.625, -52.375, -52.125,\n",
       "       -51.875, -51.625, -51.375, -51.125, -50.875, -50.625, -50.375,\n",
       "       -50.125, -49.875, -49.625, -49.375, -49.125, -48.875, -48.625,\n",
       "       -48.375, -48.125, -47.875, -47.625, -47.375, -47.125, -46.875,\n",
       "       -46.625, -46.375, -46.125, -45.875, -45.625, -45.375, -45.125,\n",
       "       -44.875, -44.625, -44.375, -44.125, -43.875, -43.625, -43.375,\n",
       "       -43.125, -42.875, -42.625, -42.375, -42.125, -41.875, -41.625,\n",
       "       -41.375, -41.125, -40.875, -40.625, -40.375, -40.125, -39.875,\n",
       "       -39.625, -39.375, -39.125, -38.875, -38.625, -38.375, -38.125,\n",
       "       -37.875, -37.625, -37.375, -37.125, -36.875, -36.625, -36.375,\n",
       "       -36.125, -35.875, -35.625, -35.375, -35.125, -34.875, -34.625,\n",
       "       -34.375, -34.125, -33.875, -33.625, -33.375, -33.125, -32.875,\n",
       "       -32.625, -32.375, -32.125, -31.875, -31.625, -31.375, -31.125,\n",
       "       -30.875, -30.625, -30.375, -30.125, -29.875, -29.625, -29.375,\n",
       "       -29.125, -28.875, -28.625, -28.375, -28.125, -27.875, -27.625,\n",
       "       -27.375, -27.125, -26.875, -26.625, -26.375, -26.125, -25.875,\n",
       "       -25.625, -25.375, -25.125, -24.875, -24.625, -24.375, -24.125,\n",
       "       -23.875, -23.625, -23.375, -23.125, -22.875, -22.625, -22.375,\n",
       "       -22.125, -21.875, -21.625, -21.375, -21.125, -20.875, -20.625,\n",
       "       -20.375, -20.125, -19.875, -19.625, -19.375, -19.125, -18.875,\n",
       "       -18.625, -18.375, -18.125, -17.875, -17.625, -17.375, -17.125,\n",
       "       -16.875, -16.625, -16.375, -16.125, -15.875, -15.625, -15.375,\n",
       "       -15.125, -14.875, -14.625, -14.375, -14.125, -13.875, -13.625,\n",
       "       -13.375, -13.125, -12.875, -12.625, -12.375, -12.125, -11.875,\n",
       "       -11.625, -11.375, -11.125, -10.875, -10.625, -10.375, -10.125,\n",
       "        -9.875,  -9.625,  -9.375,  -9.125,  -8.875,  -8.625,  -8.375,\n",
       "        -8.125,  -7.875,  -7.625,  -7.375,  -7.125,  -6.875,  -6.625,\n",
       "        -6.375,  -6.125,  -5.875,  -5.625,  -5.375,  -5.125,  -4.875,\n",
       "        -4.625,  -4.375,  -4.125,  -3.875,  -3.625,  -3.375,  -3.125,\n",
       "        -2.875,  -2.625,  -2.375,  -2.125,  -1.875,  -1.625,  -1.375,\n",
       "        -1.125,  -0.875,  -0.625,  -0.375,  -0.125,   0.125,   0.375,\n",
       "         0.625,   0.875,   1.125,   1.375,   1.625,   1.875,   2.125,\n",
       "         2.375,   2.625,   2.875,   3.125,   3.375,   3.625,   3.875,\n",
       "         4.125,   4.375,   4.625,   4.875,   5.125,   5.375,   5.625,\n",
       "         5.875,   6.125,   6.375,   6.625,   6.875,   7.125,   7.375,\n",
       "         7.625,   7.875,   8.125,   8.375,   8.625,   8.875,   9.125,\n",
       "         9.375,   9.625,   9.875,  10.125,  10.375,  10.625,  10.875,\n",
       "        11.125,  11.375,  11.625,  11.875,  12.125,  12.375,  12.625,\n",
       "        12.875,  13.125,  13.375,  13.625,  13.875,  14.125,  14.375,\n",
       "        14.625,  14.875,  15.125,  15.375,  15.625,  15.875,  16.125,\n",
       "        16.375,  16.625,  16.875,  17.125,  17.375,  17.625,  17.875,\n",
       "        18.125,  18.375,  18.625,  18.875,  19.125,  19.375,  19.625,\n",
       "        19.875,  20.125,  20.375,  20.625,  20.875,  21.125,  21.375,\n",
       "        21.625,  21.875,  22.125,  22.375,  22.625,  22.875,  23.125,\n",
       "        23.375,  23.625,  23.875,  24.125,  24.375,  24.625,  24.875,\n",
       "        25.125,  25.375,  25.625,  25.875,  26.125,  26.375,  26.625,\n",
       "        26.875,  27.125,  27.375,  27.625,  27.875,  28.125,  28.375,\n",
       "        28.625,  28.875,  29.125,  29.375,  29.625,  29.875,  30.125,\n",
       "        30.375,  30.625,  30.875,  31.125,  31.375,  31.625,  31.875,\n",
       "        32.125,  32.375,  32.625,  32.875,  33.125,  33.375,  33.625,\n",
       "        33.875,  34.125,  34.375,  34.625,  34.875,  35.125,  35.375,\n",
       "        35.625,  35.875,  36.125,  36.375,  36.625,  36.875,  37.125,\n",
       "        37.375,  37.625,  37.875,  38.125,  38.375,  38.625,  38.875,\n",
       "        39.125,  39.375,  39.625,  39.875,  40.125,  40.375,  40.625,\n",
       "        40.875,  41.125,  41.375,  41.625,  41.875,  42.125,  42.375,\n",
       "        42.625,  42.875,  43.125,  43.375,  43.625,  43.875,  44.125,\n",
       "        44.375,  44.625,  44.875,  45.125,  45.375,  45.625,  45.875,\n",
       "        46.125,  46.375,  46.625,  46.875,  47.125,  47.375,  47.625,\n",
       "        47.875,  48.125,  48.375,  48.625,  48.875,  49.125,  49.375,\n",
       "        49.625,  49.875,  50.125,  50.375,  50.625,  50.875,  51.125,\n",
       "        51.375,  51.625,  51.875,  52.125,  52.375,  52.625,  52.875,\n",
       "        53.125,  53.375,  53.625,  53.875,  54.125,  54.375,  54.625,\n",
       "        54.875,  55.125,  55.375,  55.625,  55.875,  56.125,  56.375,\n",
       "        56.625,  56.875,  57.125,  57.375,  57.625,  57.875,  58.125,\n",
       "        58.375,  58.625,  58.875,  59.125,  59.375,  59.625,  59.875,\n",
       "        60.125,  60.375,  60.625,  60.875,  61.125,  61.375,  61.625,\n",
       "        61.875,  62.125,  62.375,  62.625,  62.875,  63.125,  63.375,\n",
       "        63.625,  63.875,  64.125,  64.375,  64.625,  64.875,  65.125,\n",
       "        65.375,  65.625,  65.875,  66.125,  66.375,  66.625,  66.875,\n",
       "        67.125,  67.375,  67.625,  67.875,  68.125,  68.375,  68.625,\n",
       "        68.875,  69.125,  69.375,  69.625,  69.875,  70.125,  70.375,\n",
       "        70.625,  70.875,  71.125,  71.375,  71.625,  71.875,  72.125,\n",
       "        72.375,  72.625,  72.875,  73.125,  73.375,  73.625,  73.875,\n",
       "        74.125,  74.375,  74.625,  74.875,  75.125,  75.375,  75.625,\n",
       "        75.875,  76.125,  76.375,  76.625,  76.875,  77.125,  77.375,\n",
       "        77.625,  77.875,  78.125,  78.375,  78.625,  78.875,  79.125,\n",
       "        79.375,  79.625,  79.875,  80.125], dtype=float32)"
      ]
     },
     "execution_count": 167,
     "metadata": {},
     "output_type": "execute_result"
    }
   ],
   "source": [
    "TAUX.latitude.values"
   ]
  },
  {
   "cell_type": "code",
   "execution_count": null,
   "id": "32288f97",
   "metadata": {},
   "outputs": [],
   "source": []
  },
  {
   "cell_type": "code",
   "execution_count": null,
   "id": "785234b6",
   "metadata": {},
   "outputs": [],
   "source": []
  },
  {
   "cell_type": "code",
   "execution_count": 146,
   "id": "e99fd21c",
   "metadata": {},
   "outputs": [
    {
     "data": {
      "text/plain": [
       "720.0"
      ]
     },
     "execution_count": 146,
     "metadata": {},
     "output_type": "execute_result"
    }
   ],
   "source": [
    "TAUX.shape[-1]/2"
   ]
  },
  {
   "cell_type": "code",
   "execution_count": 147,
   "id": "0a675c7f",
   "metadata": {},
   "outputs": [],
   "source": [
    "B = np.roll(TAUX.values,int(TAUX.shape[-1]/2), axis=-1)"
   ]
  },
  {
   "cell_type": "code",
   "execution_count": 141,
   "id": "961565f2",
   "metadata": {},
   "outputs": [
    {
     "data": {
      "text/plain": [
       "(1, 1, 641, 1440)"
      ]
     },
     "execution_count": 141,
     "metadata": {},
     "output_type": "execute_result"
    }
   ],
   "source": [
    "B.shape"
   ]
  },
  {
   "cell_type": "code",
   "execution_count": 148,
   "id": "2cc58a31",
   "metadata": {},
   "outputs": [],
   "source": [
    "lon_old = np.roll(TAUX.longitude.values, int(TAUX.shape[-1]/2))"
   ]
  },
  {
   "cell_type": "code",
   "execution_count": 149,
   "id": "495a7fca",
   "metadata": {},
   "outputs": [
    {
     "data": {
      "text/plain": [
       "array([ 0.125,  0.375,  0.625, ..., -0.625, -0.375, -0.125], dtype=float32)"
      ]
     },
     "execution_count": 149,
     "metadata": {},
     "output_type": "execute_result"
    }
   ],
   "source": [
    "lon_old"
   ]
  },
  {
   "cell_type": "code",
   "execution_count": 150,
   "id": "dd63b847",
   "metadata": {},
   "outputs": [
    {
     "data": {
      "text/plain": [
       "array([1.25000e-01, 3.75000e-01, 6.25000e-01, ..., 3.59375e+02,\n",
       "       3.59625e+02, 3.59875e+02], dtype=float32)"
      ]
     },
     "execution_count": 150,
     "metadata": {},
     "output_type": "execute_result"
    }
   ],
   "source": [
    "np.where( lon_old < 0, lon_old + 360, lon_old)"
   ]
  },
  {
   "cell_type": "code",
   "execution_count": null,
   "id": "a9af567d",
   "metadata": {},
   "outputs": [],
   "source": []
  },
  {
   "cell_type": "code",
   "execution_count": null,
   "id": "89a37d6d",
   "metadata": {},
   "outputs": [],
   "source": []
  },
  {
   "cell_type": "code",
   "execution_count": null,
   "id": "e1140915",
   "metadata": {},
   "outputs": [],
   "source": []
  },
  {
   "cell_type": "code",
   "execution_count": null,
   "id": "e938accd",
   "metadata": {},
   "outputs": [],
   "source": []
  },
  {
   "cell_type": "code",
   "execution_count": 135,
   "id": "18f3e7a0",
   "metadata": {},
   "outputs": [
    {
     "data": {
      "text/plain": [
       "(1, 1, 641, 1440)"
      ]
     },
     "execution_count": 135,
     "metadata": {},
     "output_type": "execute_result"
    }
   ],
   "source": [
    "TAUX.shape"
   ]
  },
  {
   "cell_type": "code",
   "execution_count": null,
   "id": "9995c761",
   "metadata": {},
   "outputs": [],
   "source": []
  },
  {
   "cell_type": "code",
   "execution_count": null,
   "id": "22f3f678",
   "metadata": {},
   "outputs": [],
   "source": [
    "TAUX_ = TAUX."
   ]
  },
  {
   "cell_type": "code",
   "execution_count": null,
   "id": "f0ce1114",
   "metadata": {},
   "outputs": [],
   "source": []
  },
  {
   "cell_type": "code",
   "execution_count": null,
   "id": "840d0c73",
   "metadata": {},
   "outputs": [],
   "source": []
  },
  {
   "cell_type": "code",
   "execution_count": null,
   "id": "d8e7f70d",
   "metadata": {},
   "outputs": [],
   "source": []
  },
  {
   "cell_type": "code",
   "execution_count": 134,
   "id": "57efd056",
   "metadata": {},
   "outputs": [
    {
     "data": {
      "text/plain": [
       "<matplotlib.collections.QuadMesh at 0x7f1d64ba7c10>"
      ]
     },
     "execution_count": 134,
     "metadata": {},
     "output_type": "execute_result"
    },
    {
     "data": {
      "image/png": "[encoded data removed]",
      "text/plain": [
       "<Figure size 432x288 with 2 Axes>"
      ]
     },
     "metadata": {
      "needs_background": "light"
     },
     "output_type": "display_data"
    }
   ],
   "source": [
    "TAUX.plot()"
   ]
  },
  {
   "cell_type": "code",
   "execution_count": null,
   "id": "5d86a0d1",
   "metadata": {},
   "outputs": [],
   "source": []
  },
  {
   "cell_type": "code",
   "execution_count": null,
   "id": "d8680aaf",
   "metadata": {},
   "outputs": [],
   "source": []
  },
  {
   "cell_type": "code",
   "execution_count": null,
   "id": "12ce87bb",
   "metadata": {},
   "outputs": [],
   "source": []
  },
  {
   "cell_type": "code",
   "execution_count": null,
   "id": "c2f4967b",
   "metadata": {},
   "outputs": [],
   "source": []
  },
  {
   "cell_type": "code",
   "execution_count": null,
   "id": "e6281227",
   "metadata": {},
   "outputs": [],
   "source": []
  },
  {
   "cell_type": "code",
   "execution_count": null,
   "id": "5b6aff96",
   "metadata": {},
   "outputs": [],
   "source": []
  },
  {
   "cell_type": "code",
   "execution_count": null,
   "id": "3ac3e6b2",
   "metadata": {},
   "outputs": [],
   "source": [
    "surface_downward_northward_stress"
   ]
  },
  {
   "cell_type": "code",
   "execution_count": 128,
   "id": "b9eabe6c",
   "metadata": {},
   "outputs": [
    {
     "data": {
      "text/html": [
       "<div><svg style=\"position: absolute; width: 0; height: 0; overflow: hidden\">\n",
       "<defs>\n",
       "<symbol id=\"icon-database\" viewBox=\"0 0 32 32\">\n",
       "<title>Show/Hide data repr</title>\n",
       "<path d=\"M16 0c-8.837 0-16 2.239-16 5v4c0 2.761 7.163 5 16 5s16-2.239 16-5v-4c0-2.761-7.163-5-16-5z\"></path>\n",
       "<path d=\"M16 17c-8.837 0-16-2.239-16-5v6c0 2.761 7.163 5 16 5s16-2.239 16-5v-6c0 2.761-7.163 5-16 5z\"></path>\n",
       "<path d=\"M16 26c-8.837 0-16-2.239-16-5v6c0 2.761 7.163 5 16 5s16-2.239 16-5v-6c0 2.761-7.163 5-16 5z\"></path>\n",
       "</symbol>\n",
       "<symbol id=\"icon-file-text2\" viewBox=\"0 0 32 32\">\n",
       "<title>Show/Hide attributes</title>\n",
       "<path d=\"M28.681 7.159c-0.694-0.947-1.662-2.053-2.724-3.116s-2.169-2.030-3.116-2.724c-1.612-1.182-2.393-1.319-2.841-1.319h-15.5c-1.378 0-2.5 1.121-2.5 2.5v27c0 1.378 1.122 2.5 2.5 2.5h23c1.378 0 2.5-1.122 2.5-2.5v-19.5c0-0.448-0.137-1.23-1.319-2.841zM24.543 5.457c0.959 0.959 1.712 1.825 2.268 2.543h-4.811v-4.811c0.718 0.556 1.584 1.309 2.543 2.268zM28 29.5c0 0.271-0.229 0.5-0.5 0.5h-23c-0.271 0-0.5-0.229-0.5-0.5v-27c0-0.271 0.229-0.5 0.5-0.5 0 0 15.499-0 15.5 0v7c0 0.552 0.448 1 1 1h7v19.5z\"></path>\n",
       "<path d=\"M23 26h-14c-0.552 0-1-0.448-1-1s0.448-1 1-1h14c0.552 0 1 0.448 1 1s-0.448 1-1 1z\"></path>\n",
       "<path d=\"M23 22h-14c-0.552 0-1-0.448-1-1s0.448-1 1-1h14c0.552 0 1 0.448 1 1s-0.448 1-1 1z\"></path>\n",
       "<path d=\"M23 18h-14c-0.552 0-1-0.448-1-1s0.448-1 1-1h14c0.552 0 1 0.448 1 1s-0.448 1-1 1z\"></path>\n",
       "</symbol>\n",
       "</defs>\n",
       "</svg>\n",
       "<style>/* CSS stylesheet for displaying xarray objects in jupyterlab.\n",
       " *\n",
       " */\n",
       "\n",
       ":root {\n",
       "  --xr-font-color0: var(--jp-content-font-color0, rgba(0, 0, 0, 1));\n",
       "  --xr-font-color2: var(--jp-content-font-color2, rgba(0, 0, 0, 0.54));\n",
       "  --xr-font-color3: var(--jp-content-font-color3, rgba(0, 0, 0, 0.38));\n",
       "  --xr-border-color: var(--jp-border-color2, #e0e0e0);\n",
       "  --xr-disabled-color: var(--jp-layout-color3, #bdbdbd);\n",
       "  --xr-background-color: var(--jp-layout-color0, white);\n",
       "  --xr-background-color-row-even: var(--jp-layout-color1, white);\n",
       "  --xr-background-color-row-odd: var(--jp-layout-color2, #eeeeee);\n",
       "}\n",
       "\n",
       ".xr-wrap {\n",
       "  min-width: 300px;\n",
       "  max-width: 700px;\n",
       "}\n",
       "\n",
       ".xr-header {\n",
       "  padding-top: 6px;\n",
       "  padding-bottom: 6px;\n",
       "  margin-bottom: 4px;\n",
       "  border-bottom: solid 1px var(--xr-border-color);\n",
       "}\n",
       "\n",
       ".xr-header > div,\n",
       ".xr-header > ul {\n",
       "  display: inline;\n",
       "  margin-top: 0;\n",
       "  margin-bottom: 0;\n",
       "}\n",
       "\n",
       ".xr-obj-type,\n",
       ".xr-array-name {\n",
       "  margin-left: 2px;\n",
       "  margin-right: 10px;\n",
       "}\n",
       "\n",
       ".xr-obj-type {\n",
       "  color: var(--xr-font-color2);\n",
       "}\n",
       "\n",
       ".xr-sections {\n",
       "  padding-left: 0 !important;\n",
       "  display: grid;\n",
       "  grid-template-columns: 150px auto auto 1fr 20px 20px;\n",
       "}\n",
       "\n",
       ".xr-section-item {\n",
       "  display: contents;\n",
       "}\n",
       "\n",
       ".xr-section-item input {\n",
       "  display: none;\n",
       "}\n",
       "\n",
       ".xr-section-item input + label {\n",
       "  color: var(--xr-disabled-color);\n",
       "}\n",
       "\n",
       ".xr-section-item input:enabled + label {\n",
       "  cursor: pointer;\n",
       "  color: var(--xr-font-color2);\n",
       "}\n",
       "\n",
       ".xr-section-item input:enabled + label:hover {\n",
       "  color: var(--xr-font-color0);\n",
       "}\n",
       "\n",
       ".xr-section-summary {\n",
       "  grid-column: 1;\n",
       "  color: var(--xr-font-color2);\n",
       "  font-weight: 500;\n",
       "}\n",
       "\n",
       ".xr-section-summary > span {\n",
       "  display: inline-block;\n",
       "  padding-left: 0.5em;\n",
       "}\n",
       "\n",
       ".xr-section-summary-in:disabled + label {\n",
       "  color: var(--xr-font-color2);\n",
       "}\n",
       "\n",
       ".xr-section-summary-in + label:before {\n",
       "  display: inline-block;\n",
       "  content: '►';\n",
       "  font-size: 11px;\n",
       "  width: 15px;\n",
       "  text-align: center;\n",
       "}\n",
       "\n",
       ".xr-section-summary-in:disabled + label:before {\n",
       "  color: var(--xr-disabled-color);\n",
       "}\n",
       "\n",
       ".xr-section-summary-in:checked + label:before {\n",
       "  content: '▼';\n",
       "}\n",
       "\n",
       ".xr-section-summary-in:checked + label > span {\n",
       "  display: none;\n",
       "}\n",
       "\n",
       ".xr-section-summary,\n",
       ".xr-section-inline-details {\n",
       "  padding-top: 4px;\n",
       "  padding-bottom: 4px;\n",
       "}\n",
       "\n",
       ".xr-section-inline-details {\n",
       "  grid-column: 2 / -1;\n",
       "}\n",
       "\n",
       ".xr-section-details {\n",
       "  display: none;\n",
       "  grid-column: 1 / -1;\n",
       "  margin-bottom: 5px;\n",
       "}\n",
       "\n",
       ".xr-section-summary-in:checked ~ .xr-section-details {\n",
       "  display: contents;\n",
       "}\n",
       "\n",
       ".xr-array-wrap {\n",
       "  grid-column: 1 / -1;\n",
       "  display: grid;\n",
       "  grid-template-columns: 20px auto;\n",
       "}\n",
       "\n",
       ".xr-array-wrap > label {\n",
       "  grid-column: 1;\n",
       "  vertical-align: top;\n",
       "}\n",
       "\n",
       ".xr-preview {\n",
       "  color: var(--xr-font-color3);\n",
       "}\n",
       "\n",
       ".xr-array-preview,\n",
       ".xr-array-data {\n",
       "  padding: 0 5px !important;\n",
       "  grid-column: 2;\n",
       "}\n",
       "\n",
       ".xr-array-data,\n",
       ".xr-array-in:checked ~ .xr-array-preview {\n",
       "  display: none;\n",
       "}\n",
       "\n",
       ".xr-array-in:checked ~ .xr-array-data,\n",
       ".xr-array-preview {\n",
       "  display: inline-block;\n",
       "}\n",
       "\n",
       ".xr-dim-list {\n",
       "  display: inline-block !important;\n",
       "  list-style: none;\n",
       "  padding: 0 !important;\n",
       "  margin: 0;\n",
       "}\n",
       "\n",
       ".xr-dim-list li {\n",
       "  display: inline-block;\n",
       "  padding: 0;\n",
       "  margin: 0;\n",
       "}\n",
       "\n",
       ".xr-dim-list:before {\n",
       "  content: '(';\n",
       "}\n",
       "\n",
       ".xr-dim-list:after {\n",
       "  content: ')';\n",
       "}\n",
       "\n",
       ".xr-dim-list li:not(:last-child):after {\n",
       "  content: ',';\n",
       "  padding-right: 5px;\n",
       "}\n",
       "\n",
       ".xr-has-index {\n",
       "  font-weight: bold;\n",
       "}\n",
       "\n",
       ".xr-var-list,\n",
       ".xr-var-item {\n",
       "  display: contents;\n",
       "}\n",
       "\n",
       ".xr-var-item > div,\n",
       ".xr-var-item label,\n",
       ".xr-var-item > .xr-var-name span {\n",
       "  background-color: var(--xr-background-color-row-even);\n",
       "  margin-bottom: 0;\n",
       "}\n",
       "\n",
       ".xr-var-item > .xr-var-name:hover span {\n",
       "  padding-right: 5px;\n",
       "}\n",
       "\n",
       ".xr-var-list > li:nth-child(odd) > div,\n",
       ".xr-var-list > li:nth-child(odd) > label,\n",
       ".xr-var-list > li:nth-child(odd) > .xr-var-name span {\n",
       "  background-color: var(--xr-background-color-row-odd);\n",
       "}\n",
       "\n",
       ".xr-var-name {\n",
       "  grid-column: 1;\n",
       "}\n",
       "\n",
       ".xr-var-dims {\n",
       "  grid-column: 2;\n",
       "}\n",
       "\n",
       ".xr-var-dtype {\n",
       "  grid-column: 3;\n",
       "  text-align: right;\n",
       "  color: var(--xr-font-color2);\n",
       "}\n",
       "\n",
       ".xr-var-preview {\n",
       "  grid-column: 4;\n",
       "}\n",
       "\n",
       ".xr-var-name,\n",
       ".xr-var-dims,\n",
       ".xr-var-dtype,\n",
       ".xr-preview,\n",
       ".xr-attrs dt {\n",
       "  white-space: nowrap;\n",
       "  overflow: hidden;\n",
       "  text-overflow: ellipsis;\n",
       "  padding-right: 10px;\n",
       "}\n",
       "\n",
       ".xr-var-name:hover,\n",
       ".xr-var-dims:hover,\n",
       ".xr-var-dtype:hover,\n",
       ".xr-attrs dt:hover {\n",
       "  overflow: visible;\n",
       "  width: auto;\n",
       "  z-index: 1;\n",
       "}\n",
       "\n",
       ".xr-var-attrs,\n",
       ".xr-var-data {\n",
       "  display: none;\n",
       "  background-color: var(--xr-background-color) !important;\n",
       "  padding-bottom: 5px !important;\n",
       "}\n",
       "\n",
       ".xr-var-attrs-in:checked ~ .xr-var-attrs,\n",
       ".xr-var-data-in:checked ~ .xr-var-data {\n",
       "  display: block;\n",
       "}\n",
       "\n",
       ".xr-var-data > table {\n",
       "  float: right;\n",
       "}\n",
       "\n",
       ".xr-var-name span,\n",
       ".xr-var-data,\n",
       ".xr-attrs {\n",
       "  padding-left: 25px !important;\n",
       "}\n",
       "\n",
       ".xr-attrs,\n",
       ".xr-var-attrs,\n",
       ".xr-var-data {\n",
       "  grid-column: 1 / -1;\n",
       "}\n",
       "\n",
       "dl.xr-attrs {\n",
       "  padding: 0;\n",
       "  margin: 0;\n",
       "  display: grid;\n",
       "  grid-template-columns: 125px auto;\n",
       "}\n",
       "\n",
       ".xr-attrs dt, dd {\n",
       "  padding: 0;\n",
       "  margin: 0;\n",
       "  float: left;\n",
       "  padding-right: 10px;\n",
       "  width: auto;\n",
       "}\n",
       "\n",
       ".xr-attrs dt {\n",
       "  font-weight: normal;\n",
       "  grid-column: 1;\n",
       "}\n",
       "\n",
       ".xr-attrs dt:hover span {\n",
       "  display: inline-block;\n",
       "  background: var(--xr-background-color);\n",
       "  padding-right: 10px;\n",
       "}\n",
       "\n",
       ".xr-attrs dd {\n",
       "  grid-column: 2;\n",
       "  white-space: pre-wrap;\n",
       "  word-break: break-all;\n",
       "}\n",
       "\n",
       ".xr-icon-database,\n",
       ".xr-icon-file-text2 {\n",
       "  display: inline-block;\n",
       "  vertical-align: middle;\n",
       "  width: 1em;\n",
       "  height: 1.5em !important;\n",
       "  stroke-width: 0;\n",
       "  stroke: currentColor;\n",
       "  fill: currentColor;\n",
       "}\n",
       "</style><div class='xr-wrap'><div class='xr-header'><div class='xr-obj-type'>xarray.Dataset</div></div><ul class='xr-sections'><li class='xr-section-item'><input id='section-ee96fac4-de98-4924-8239-9ae0fb1c0ddb' class='xr-section-summary-in' type='checkbox' disabled ><label for='section-ee96fac4-de98-4924-8239-9ae0fb1c0ddb' class='xr-section-summary'  title='Expand/collapse section'>Dimensions:</label><div class='xr-section-inline-details'><ul class='xr-dim-list'><li><span class='xr-has-index'>depth</span>: 1</li><li><span class='xr-has-index'>latitude</span>: 641</li><li><span class='xr-has-index'>longitude</span>: 1440</li><li><span class='xr-has-index'>time</span>: 1</li></ul></div><div class='xr-section-details'></div></li><li class='xr-section-item'><input id='section-c97b2965-059f-4e99-a467-2359fadb8ee1' class='xr-section-summary-in' type='checkbox'  checked><label for='section-c97b2965-059f-4e99-a467-2359fadb8ee1' class='xr-section-summary' >Coordinates: <span>(4)</span></label><div class='xr-section-inline-details'></div><div class='xr-section-details'><ul class='xr-var-list'><li class='xr-var-item'><div class='xr-var-name'><span class='xr-has-index'>time</span></div><div class='xr-var-dims'>(time)</div><div class='xr-var-dtype'>datetime64[ns]</div><div class='xr-var-preview xr-preview'>2007-03-21T12:00:00</div><input id='attrs-a79f20f8-00e4-473a-be8d-8e70d9db5c71' class='xr-var-attrs-in' type='checkbox' ><label for='attrs-a79f20f8-00e4-473a-be8d-8e70d9db5c71' title='Show/Hide attributes'><svg class='icon xr-icon-file-text2'><use xlink:href='#icon-file-text2'></use></svg></label><input id='data-b0909538-29ae-4ab4-b4a8-84b72b9aa8b0' class='xr-var-data-in' type='checkbox'><label for='data-b0909538-29ae-4ab4-b4a8-84b72b9aa8b0' title='Show/Hide data repr'><svg class='icon xr-icon-database'><use xlink:href='#icon-database'></use></svg></label><div class='xr-var-attrs'><dl class='xr-attrs'><dt><span>long_name :</span></dt><dd>time</dd><dt><span>valid_min :</span></dt><dd>939852.0</dd><dt><span>valid_max :</span></dt><dd>939852.0</dd><dt><span>axis :</span></dt><dd>T</dd><dt><span>standard_name :</span></dt><dd>time</dd></dl></div><pre class='xr-var-data'>array([&#x27;2007-03-21T12:00:00.000000000&#x27;], dtype=&#x27;datetime64[ns]&#x27;)</pre></li><li class='xr-var-item'><div class='xr-var-name'><span class='xr-has-index'>depth</span></div><div class='xr-var-dims'>(depth)</div><div class='xr-var-dtype'>float32</div><div class='xr-var-preview xr-preview'>10.0</div><input id='attrs-5174da0a-fa98-4e46-a4aa-e7c79f6a11c5' class='xr-var-attrs-in' type='checkbox' ><label for='attrs-5174da0a-fa98-4e46-a4aa-e7c79f6a11c5' title='Show/Hide attributes'><svg class='icon xr-icon-file-text2'><use xlink:href='#icon-file-text2'></use></svg></label><input id='data-cc385782-dbec-4548-b8f8-6daf02729a1c' class='xr-var-data-in' type='checkbox'><label for='data-cc385782-dbec-4548-b8f8-6daf02729a1c' title='Show/Hide data repr'><svg class='icon xr-icon-database'><use xlink:href='#icon-database'></use></svg></label><div class='xr-var-attrs'><dl class='xr-attrs'><dt><span>long_name :</span></dt><dd>depth</dd><dt><span>units :</span></dt><dd>m</dd><dt><span>valid_min :</span></dt><dd>10.0</dd><dt><span>valid_max :</span></dt><dd>10.0</dd><dt><span>axis :</span></dt><dd>Z</dd><dt><span>positive :</span></dt><dd>up</dd><dt><span>standard_name :</span></dt><dd>depth</dd></dl></div><pre class='xr-var-data'>array([10.], dtype=float32)</pre></li><li class='xr-var-item'><div class='xr-var-name'><span class='xr-has-index'>latitude</span></div><div class='xr-var-dims'>(latitude)</div><div class='xr-var-dtype'>float32</div><div class='xr-var-preview xr-preview'>-79.875 -79.625 ... 79.875 80.125</div><input id='attrs-f75095ea-c314-499e-a152-aa6c047e99a5' class='xr-var-attrs-in' type='checkbox' ><label for='attrs-f75095ea-c314-499e-a152-aa6c047e99a5' title='Show/Hide attributes'><svg class='icon xr-icon-file-text2'><use xlink:href='#icon-file-text2'></use></svg></label><input id='data-88f28d24-685c-45a0-8861-418b56ac6f86' class='xr-var-data-in' type='checkbox'><label for='data-88f28d24-685c-45a0-8861-418b56ac6f86' title='Show/Hide data repr'><svg class='icon xr-icon-database'><use xlink:href='#icon-database'></use></svg></label><div class='xr-var-attrs'><dl class='xr-attrs'><dt><span>long_name :</span></dt><dd>latitude</dd><dt><span>units :</span></dt><dd>degrees_north</dd><dt><span>valid_min :</span></dt><dd>-79.875</dd><dt><span>valid_max :</span></dt><dd>80.125</dd><dt><span>axis :</span></dt><dd>Y</dd><dt><span>standard_name :</span></dt><dd>latitude</dd></dl></div><pre class='xr-var-data'>array([-79.875, -79.625, -79.375, ...,  79.625,  79.875,  80.125],\n",
       "      dtype=float32)</pre></li><li class='xr-var-item'><div class='xr-var-name'><span class='xr-has-index'>longitude</span></div><div class='xr-var-dims'>(longitude)</div><div class='xr-var-dtype'>float32</div><div class='xr-var-preview xr-preview'>-179.875 -179.625 ... 179.875</div><input id='attrs-f8d77c10-a31f-4f6b-93b8-06a1e9eee503' class='xr-var-attrs-in' type='checkbox' ><label for='attrs-f8d77c10-a31f-4f6b-93b8-06a1e9eee503' title='Show/Hide attributes'><svg class='icon xr-icon-file-text2'><use xlink:href='#icon-file-text2'></use></svg></label><input id='data-a1a329b2-64b2-4f24-aa1b-602db6d9082e' class='xr-var-data-in' type='checkbox'><label for='data-a1a329b2-64b2-4f24-aa1b-602db6d9082e' title='Show/Hide data repr'><svg class='icon xr-icon-database'><use xlink:href='#icon-database'></use></svg></label><div class='xr-var-attrs'><dl class='xr-attrs'><dt><span>long_name :</span></dt><dd>longitude</dd><dt><span>units :</span></dt><dd>degrees_east</dd><dt><span>valid_min :</span></dt><dd>-179.875</dd><dt><span>valid_max :</span></dt><dd>179.875</dd><dt><span>axis :</span></dt><dd>X</dd><dt><span>standard_name :</span></dt><dd>longitude</dd></dl></div><pre class='xr-var-data'>array([-179.875, -179.625, -179.375, ...,  179.375,  179.625,  179.875],\n",
       "      dtype=float32)</pre></li></ul></div></li><li class='xr-section-item'><input id='section-dd05b209-a1ef-4718-be3a-27d93e9b305a' class='xr-section-summary-in' type='checkbox'  checked><label for='section-dd05b209-a1ef-4718-be3a-27d93e9b305a' class='xr-section-summary' >Data variables: <span>(11)</span></label><div class='xr-section-inline-details'></div><div class='xr-section-details'><ul class='xr-var-list'><li class='xr-var-item'><div class='xr-var-name'><span>wind_speed</span></div><div class='xr-var-dims'>(time, depth, latitude, longitude)</div><div class='xr-var-dtype'>float32</div><div class='xr-var-preview xr-preview'>...</div><input id='attrs-39bf5880-5eb0-4565-bb17-0289423d3dbf' class='xr-var-attrs-in' type='checkbox' ><label for='attrs-39bf5880-5eb0-4565-bb17-0289423d3dbf' title='Show/Hide attributes'><svg class='icon xr-icon-file-text2'><use xlink:href='#icon-file-text2'></use></svg></label><input id='data-23ff29a1-d4e1-4525-a94c-bdec3b686f66' class='xr-var-data-in' type='checkbox'><label for='data-23ff29a1-d4e1-4525-a94c-bdec3b686f66' title='Show/Hide data repr'><svg class='icon xr-icon-database'><use xlink:href='#icon-database'></use></svg></label><div class='xr-var-attrs'><dl class='xr-attrs'><dt><span>long_name :</span></dt><dd>wind speed</dd><dt><span>units :</span></dt><dd>m/s</dd><dt><span>valid_min :</span></dt><dd>0.0</dd><dt><span>valid_max :</span></dt><dd>6000.0</dd><dt><span>standard_name :</span></dt><dd>wind_speed</dd></dl></div><pre class='xr-var-data'>[923040 values with dtype=float32]</pre></li><li class='xr-var-item'><div class='xr-var-name'><span>eastward_wind</span></div><div class='xr-var-dims'>(time, depth, latitude, longitude)</div><div class='xr-var-dtype'>float32</div><div class='xr-var-preview xr-preview'>...</div><input id='attrs-a8e0d6ad-1394-49cd-95fc-6ff61a4ca4b3' class='xr-var-attrs-in' type='checkbox' ><label for='attrs-a8e0d6ad-1394-49cd-95fc-6ff61a4ca4b3' title='Show/Hide attributes'><svg class='icon xr-icon-file-text2'><use xlink:href='#icon-file-text2'></use></svg></label><input id='data-6a5dd80d-e6f2-4313-8166-a64f0ef2de76' class='xr-var-data-in' type='checkbox'><label for='data-6a5dd80d-e6f2-4313-8166-a64f0ef2de76' title='Show/Hide data repr'><svg class='icon xr-icon-database'><use xlink:href='#icon-database'></use></svg></label><div class='xr-var-attrs'><dl class='xr-attrs'><dt><span>long_name :</span></dt><dd>eastward wind speed</dd><dt><span>units :</span></dt><dd>m/s</dd><dt><span>valid_min :</span></dt><dd>-6000.0</dd><dt><span>valid_max :</span></dt><dd>6000.0</dd><dt><span>standard_name :</span></dt><dd>eastward_wind</dd><dt><span>positive :</span></dt><dd>meteorological convention</dd></dl></div><pre class='xr-var-data'>[923040 values with dtype=float32]</pre></li><li class='xr-var-item'><div class='xr-var-name'><span>northward_wind</span></div><div class='xr-var-dims'>(time, depth, latitude, longitude)</div><div class='xr-var-dtype'>float32</div><div class='xr-var-preview xr-preview'>...</div><input id='attrs-67c9f1d9-2360-46c5-ad15-d20da2b64510' class='xr-var-attrs-in' type='checkbox' ><label for='attrs-67c9f1d9-2360-46c5-ad15-d20da2b64510' title='Show/Hide attributes'><svg class='icon xr-icon-file-text2'><use xlink:href='#icon-file-text2'></use></svg></label><input id='data-1fdbb61b-b339-4057-a28f-a7697904912c' class='xr-var-data-in' type='checkbox'><label for='data-1fdbb61b-b339-4057-a28f-a7697904912c' title='Show/Hide data repr'><svg class='icon xr-icon-database'><use xlink:href='#icon-database'></use></svg></label><div class='xr-var-attrs'><dl class='xr-attrs'><dt><span>long_name :</span></dt><dd>northward wind speed</dd><dt><span>units :</span></dt><dd>m/s</dd><dt><span>valid_min :</span></dt><dd>-6000.0</dd><dt><span>valid_max :</span></dt><dd>6000.0</dd><dt><span>standard_name :</span></dt><dd>northward_wind</dd><dt><span>positive :</span></dt><dd>meteorological convention</dd></dl></div><pre class='xr-var-data'>[923040 values with dtype=float32]</pre></li><li class='xr-var-item'><div class='xr-var-name'><span>wind_stress</span></div><div class='xr-var-dims'>(time, depth, latitude, longitude)</div><div class='xr-var-dtype'>float32</div><div class='xr-var-preview xr-preview'>...</div><input id='attrs-0e8b82f2-d944-4682-9bee-eb248c28884e' class='xr-var-attrs-in' type='checkbox' ><label for='attrs-0e8b82f2-d944-4682-9bee-eb248c28884e' title='Show/Hide attributes'><svg class='icon xr-icon-file-text2'><use xlink:href='#icon-file-text2'></use></svg></label><input id='data-a338dd26-ebbf-4bc3-a91a-aa37e9f67c10' class='xr-var-data-in' type='checkbox'><label for='data-a338dd26-ebbf-4bc3-a91a-aa37e9f67c10' title='Show/Hide data repr'><svg class='icon xr-icon-database'><use xlink:href='#icon-database'></use></svg></label><div class='xr-var-attrs'><dl class='xr-attrs'><dt><span>long_name :</span></dt><dd>wind stress</dd><dt><span>units :</span></dt><dd>Pa</dd><dt><span>valid_min :</span></dt><dd>0.0</dd><dt><span>valid_max :</span></dt><dd>25000.0</dd></dl></div><pre class='xr-var-data'>[923040 values with dtype=float32]</pre></li><li class='xr-var-item'><div class='xr-var-name'><span>surface_downward_eastward_stress</span></div><div class='xr-var-dims'>(time, depth, latitude, longitude)</div><div class='xr-var-dtype'>float32</div><div class='xr-var-preview xr-preview'>...</div><input id='attrs-165f803f-fe90-4738-a572-21e64cba5fb4' class='xr-var-attrs-in' type='checkbox' ><label for='attrs-165f803f-fe90-4738-a572-21e64cba5fb4' title='Show/Hide attributes'><svg class='icon xr-icon-file-text2'><use xlink:href='#icon-file-text2'></use></svg></label><input id='data-f82d5a37-4699-4451-b302-a479cbbf97d8' class='xr-var-data-in' type='checkbox'><label for='data-f82d5a37-4699-4451-b302-a479cbbf97d8' title='Show/Hide data repr'><svg class='icon xr-icon-database'><use xlink:href='#icon-database'></use></svg></label><div class='xr-var-attrs'><dl class='xr-attrs'><dt><span>long_name :</span></dt><dd>eastward wind stress</dd><dt><span>units :</span></dt><dd>Pa</dd><dt><span>valid_min :</span></dt><dd>-25000.0</dd><dt><span>valid_max :</span></dt><dd>25000.0</dd><dt><span>standard_name :</span></dt><dd>surface_downward_eastward_stress</dd><dt><span>positive :</span></dt><dd>meteorological convention</dd></dl></div><pre class='xr-var-data'>[923040 values with dtype=float32]</pre></li><li class='xr-var-item'><div class='xr-var-name'><span>surface_downward_northward_stress</span></div><div class='xr-var-dims'>(time, depth, latitude, longitude)</div><div class='xr-var-dtype'>float32</div><div class='xr-var-preview xr-preview'>...</div><input id='attrs-c9ad71b7-fc62-4b01-b76f-9b8952b2ae39' class='xr-var-attrs-in' type='checkbox' ><label for='attrs-c9ad71b7-fc62-4b01-b76f-9b8952b2ae39' title='Show/Hide attributes'><svg class='icon xr-icon-file-text2'><use xlink:href='#icon-file-text2'></use></svg></label><input id='data-7f48c620-7f0e-458b-954a-2bd9c6a32c09' class='xr-var-data-in' type='checkbox'><label for='data-7f48c620-7f0e-458b-954a-2bd9c6a32c09' title='Show/Hide data repr'><svg class='icon xr-icon-database'><use xlink:href='#icon-database'></use></svg></label><div class='xr-var-attrs'><dl class='xr-attrs'><dt><span>long_name :</span></dt><dd>northward wind stress</dd><dt><span>units :</span></dt><dd>Pa</dd><dt><span>valid_min :</span></dt><dd>-25000.0</dd><dt><span>valid_max :</span></dt><dd>25000.0</dd><dt><span>standard_name :</span></dt><dd>surface_downward_northward_stress</dd><dt><span>positive :</span></dt><dd>meteorological convention</dd></dl></div><pre class='xr-var-data'>[923040 values with dtype=float32]</pre></li><li class='xr-var-item'><div class='xr-var-name'><span>land_ice_mask</span></div><div class='xr-var-dims'>(time, depth, latitude, longitude)</div><div class='xr-var-dtype'>float32</div><div class='xr-var-preview xr-preview'>...</div><input id='attrs-8bf1dadb-fc70-415f-ba32-b71549c0d2a3' class='xr-var-attrs-in' type='checkbox' ><label for='attrs-8bf1dadb-fc70-415f-ba32-b71549c0d2a3' title='Show/Hide attributes'><svg class='icon xr-icon-file-text2'><use xlink:href='#icon-file-text2'></use></svg></label><input id='data-cf428fbd-de73-4b5c-b84f-eec56dc15a13' class='xr-var-data-in' type='checkbox'><label for='data-cf428fbd-de73-4b5c-b84f-eec56dc15a13' title='Show/Hide data repr'><svg class='icon xr-icon-database'><use xlink:href='#icon-database'></use></svg></label><div class='xr-var-attrs'><dl class='xr-attrs'><dt><span>long_name :</span></dt><dd>flag - 0:ocean - 1:earth/ice</dd><dt><span>units :</span></dt><dd>1</dd><dt><span>valid_min :</span></dt><dd>0.0</dd><dt><span>valid_max :</span></dt><dd>1.0</dd></dl></div><pre class='xr-var-data'>[923040 values with dtype=float32]</pre></li><li class='xr-var-item'><div class='xr-var-name'><span>wind_speed_rms</span></div><div class='xr-var-dims'>(time, depth, latitude, longitude)</div><div class='xr-var-dtype'>float32</div><div class='xr-var-preview xr-preview'>...</div><input id='attrs-411b3247-bcfd-41e9-9795-d5acf253b6bd' class='xr-var-attrs-in' type='checkbox' ><label for='attrs-411b3247-bcfd-41e9-9795-d5acf253b6bd' title='Show/Hide attributes'><svg class='icon xr-icon-file-text2'><use xlink:href='#icon-file-text2'></use></svg></label><input id='data-602d2514-61a3-414b-87bf-98d4017ca5e8' class='xr-var-data-in' type='checkbox'><label for='data-602d2514-61a3-414b-87bf-98d4017ca5e8' title='Show/Hide data repr'><svg class='icon xr-icon-database'><use xlink:href='#icon-database'></use></svg></label><div class='xr-var-attrs'><dl class='xr-attrs'><dt><span>long_name :</span></dt><dd>wind speed root mean square</dd><dt><span>units :</span></dt><dd>m/s</dd><dt><span>valid_min :</span></dt><dd>0.0</dd><dt><span>valid_max :</span></dt><dd>100.0</dd></dl></div><pre class='xr-var-data'>[923040 values with dtype=float32]</pre></li><li class='xr-var-item'><div class='xr-var-name'><span>eastward_wind_rms</span></div><div class='xr-var-dims'>(time, depth, latitude, longitude)</div><div class='xr-var-dtype'>float32</div><div class='xr-var-preview xr-preview'>...</div><input id='attrs-e7126850-2930-48ab-a2e2-3a1ac2a60e41' class='xr-var-attrs-in' type='checkbox' ><label for='attrs-e7126850-2930-48ab-a2e2-3a1ac2a60e41' title='Show/Hide attributes'><svg class='icon xr-icon-file-text2'><use xlink:href='#icon-file-text2'></use></svg></label><input id='data-19624389-56a4-49ae-841a-04b0a8643fac' class='xr-var-data-in' type='checkbox'><label for='data-19624389-56a4-49ae-841a-04b0a8643fac' title='Show/Hide data repr'><svg class='icon xr-icon-database'><use xlink:href='#icon-database'></use></svg></label><div class='xr-var-attrs'><dl class='xr-attrs'><dt><span>long_name :</span></dt><dd>eastward wind speed root mean square</dd><dt><span>units :</span></dt><dd>m/s</dd><dt><span>valid_min :</span></dt><dd>0.0</dd><dt><span>valid_max :</span></dt><dd>100.0</dd></dl></div><pre class='xr-var-data'>[923040 values with dtype=float32]</pre></li><li class='xr-var-item'><div class='xr-var-name'><span>northward_wind_rms</span></div><div class='xr-var-dims'>(time, depth, latitude, longitude)</div><div class='xr-var-dtype'>float32</div><div class='xr-var-preview xr-preview'>...</div><input id='attrs-804494ac-917a-4bf6-be73-774a18804f3d' class='xr-var-attrs-in' type='checkbox' ><label for='attrs-804494ac-917a-4bf6-be73-774a18804f3d' title='Show/Hide attributes'><svg class='icon xr-icon-file-text2'><use xlink:href='#icon-file-text2'></use></svg></label><input id='data-75f4f768-71f0-48a4-8234-90082bd4d54d' class='xr-var-data-in' type='checkbox'><label for='data-75f4f768-71f0-48a4-8234-90082bd4d54d' title='Show/Hide data repr'><svg class='icon xr-icon-database'><use xlink:href='#icon-database'></use></svg></label><div class='xr-var-attrs'><dl class='xr-attrs'><dt><span>long_name :</span></dt><dd>northward wind speed root mean square</dd><dt><span>units :</span></dt><dd>m/s</dd><dt><span>valid_min :</span></dt><dd>0.0</dd><dt><span>valid_max :</span></dt><dd>100.0</dd></dl></div><pre class='xr-var-data'>[923040 values with dtype=float32]</pre></li><li class='xr-var-item'><div class='xr-var-name'><span>sampling_length</span></div><div class='xr-var-dims'>(time, depth, latitude, longitude)</div><div class='xr-var-dtype'>float32</div><div class='xr-var-preview xr-preview'>...</div><input id='attrs-7432dfef-021d-43da-ab2f-f757f870217c' class='xr-var-attrs-in' type='checkbox' ><label for='attrs-7432dfef-021d-43da-ab2f-f757f870217c' title='Show/Hide attributes'><svg class='icon xr-icon-file-text2'><use xlink:href='#icon-file-text2'></use></svg></label><input id='data-9db078f6-937c-4605-b203-b38e7f480984' class='xr-var-data-in' type='checkbox'><label for='data-9db078f6-937c-4605-b203-b38e7f480984' title='Show/Hide data repr'><svg class='icon xr-icon-database'><use xlink:href='#icon-database'></use></svg></label><div class='xr-var-attrs'><dl class='xr-attrs'><dt><span>long_name :</span></dt><dd>sampling length</dd><dt><span>units :</span></dt><dd>1</dd><dt><span>valid_min :</span></dt><dd>0.0</dd><dt><span>valid_max :</span></dt><dd>127.0</dd></dl></div><pre class='xr-var-data'>[923040 values with dtype=float32]</pre></li></ul></div></li><li class='xr-section-item'><input id='section-0a816959-f720-4077-baf6-cab00a943c14' class='xr-section-summary-in' type='checkbox'  ><label for='section-0a816959-f720-4077-baf6-cab00a943c14' class='xr-section-summary' >Attributes: <span>(22)</span></label><div class='xr-section-inline-details'></div><div class='xr-section-details'><dl class='xr-attrs'><dt><span>Conventions :</span></dt><dd>CF-1.4</dd><dt><span>title :</span></dt><dd>Daily ASCAT global wind field</dd><dt><span>references :</span></dt><dd>Bentamy, A.; Croize-Fillon, 2010: Gridded surface wind fields from Metop/ASCAT measurements, International Journal of Remote Sensing</dd><dt><span>institution :</span></dt><dd>ifremer</dd><dt><span>source :</span></dt><dd>produced at 2011-05-31</dd><dt><span>bulletin_date :</span></dt><dd>2011-05-31</dd><dt><span>contact :</span></dt><dd>fpaf@ifremer.fr, Abderrahim.Bentamy@ifremer.fr, Denis.Croize.Fillon@ifremer.fr</dd><dt><span>creation_date :</span></dt><dd>2011-05-31</dd><dt><span>start_time :</span></dt><dd>12:00:00</dd><dt><span>stop_time :</span></dt><dd>12:00:00</dd><dt><span>start_date :</span></dt><dd>2007-03-21</dd><dt><span>stop_date :</span></dt><dd>2007-03-21</dd><dt><span>northernmost_latitude :</span></dt><dd>80.125</dd><dt><span>southernmost_latitude :</span></dt><dd>-79.875</dd><dt><span>easternmost_longitude :</span></dt><dd>179.875</dd><dt><span>westernmost_longitude :</span></dt><dd>-179.875</dd><dt><span>grid_resolution :</span></dt><dd>0.250 degree</dd><dt><span>file_quality_index :</span></dt><dd>0.0</dd><dt><span>time_resolution :</span></dt><dd>daily</dd><dt><span>objective_method :</span></dt><dd>krigeage</dd><dt><span>polar_sea_ice_mask_date :</span></dt><dd>2007-03-21</dd><dt><span>creation_date_time :</span></dt><dd>20110531T232401</dd></dl></div></li></ul></div></div>"
      ],
      "text/plain": [
       "<xarray.Dataset>\n",
       "Dimensions:                            (depth: 1, latitude: 641, longitude: 1440, time: 1)\n",
       "Coordinates:\n",
       "  * time                               (time) datetime64[ns] 2007-03-21T12:00:00\n",
       "  * depth                              (depth) float32 10.0\n",
       "  * latitude                           (latitude) float32 -79.875 ... 80.125\n",
       "  * longitude                          (longitude) float32 -179.875 ... 179.875\n",
       "Data variables:\n",
       "    wind_speed                         (time, depth, latitude, longitude) float32 ...\n",
       "    eastward_wind                      (time, depth, latitude, longitude) float32 ...\n",
       "    northward_wind                     (time, depth, latitude, longitude) float32 ...\n",
       "    wind_stress                        (time, depth, latitude, longitude) float32 ...\n",
       "    surface_downward_eastward_stress   (time, depth, latitude, longitude) float32 ...\n",
       "    surface_downward_northward_stress  (time, depth, latitude, longitude) float32 ...\n",
       "    land_ice_mask                      (time, depth, latitude, longitude) float32 ...\n",
       "    wind_speed_rms                     (time, depth, latitude, longitude) float32 ...\n",
       "    eastward_wind_rms                  (time, depth, latitude, longitude) float32 ...\n",
       "    northward_wind_rms                 (time, depth, latitude, longitude) float32 ...\n",
       "    sampling_length                    (time, depth, latitude, longitude) float32 ...\n",
       "Attributes:\n",
       "    Conventions:              CF-1.4\n",
       "    title:                    Daily ASCAT global wind field\n",
       "    references:               Bentamy, A.; Croize-Fillon, 2010: Gridded surfa...\n",
       "    institution:              ifremer\n",
       "    source:                   produced at 2011-05-31\n",
       "    bulletin_date:            2011-05-31\n",
       "    contact:                  fpaf@ifremer.fr, Abderrahim.Bentamy@ifremer.fr,...\n",
       "    creation_date:            2011-05-31\n",
       "    start_time:               12:00:00\n",
       "    stop_time:                12:00:00\n",
       "    start_date:               2007-03-21\n",
       "    stop_date:                2007-03-21\n",
       "    northernmost_latitude:    80.125\n",
       "    southernmost_latitude:    -79.875\n",
       "    easternmost_longitude:    179.875\n",
       "    westernmost_longitude:    -179.875\n",
       "    grid_resolution:          0.250 degree\n",
       "    file_quality_index:       0.0\n",
       "    time_resolution:          daily\n",
       "    objective_method:         krigeage\n",
       "    polar_sea_ice_mask_date:  2007-03-21\n",
       "    creation_date_time:       20110531T232401"
      ]
     },
     "execution_count": 128,
     "metadata": {},
     "output_type": "execute_result"
    }
   ],
   "source": [
    "NC"
   ]
  },
  {
   "cell_type": "code",
   "execution_count": 126,
   "id": "ef57e5d4",
   "metadata": {},
   "outputs": [
    {
     "data": {
      "text/plain": [
       "Frozen({'time': <xarray.IndexVariable 'time' (time: 1)>\n",
       "array(['2007-03-21T12:00:00.000000000'], dtype='datetime64[ns]')\n",
       "Attributes:\n",
       "    long_name:      time\n",
       "    valid_min:      939852.0\n",
       "    valid_max:      939852.0\n",
       "    axis:           T\n",
       "    standard_name:  time, 'depth': <xarray.IndexVariable 'depth' (depth: 1)>\n",
       "array([10.], dtype=float32)\n",
       "Attributes:\n",
       "    long_name:      depth\n",
       "    units:          m\n",
       "    valid_min:      10.0\n",
       "    valid_max:      10.0\n",
       "    axis:           Z\n",
       "    positive:       up\n",
       "    standard_name:  depth, 'latitude': <xarray.IndexVariable 'latitude' (latitude: 641)>\n",
       "array([-79.875, -79.625, -79.375, ...,  79.625,  79.875,  80.125],\n",
       "      dtype=float32)\n",
       "Attributes:\n",
       "    long_name:      latitude\n",
       "    units:          degrees_north\n",
       "    valid_min:      -79.875\n",
       "    valid_max:      80.125\n",
       "    axis:           Y\n",
       "    standard_name:  latitude, 'longitude': <xarray.IndexVariable 'longitude' (longitude: 1440)>\n",
       "array([-179.875, -179.625, -179.375, ...,  179.375,  179.625,  179.875],\n",
       "      dtype=float32)\n",
       "Attributes:\n",
       "    long_name:      longitude\n",
       "    units:          degrees_east\n",
       "    valid_min:      -179.875\n",
       "    valid_max:      179.875\n",
       "    axis:           X\n",
       "    standard_name:  longitude, 'wind_speed': <xarray.Variable (time: 1, depth: 1, latitude: 641, longitude: 1440)>\n",
       "[923040 values with dtype=float32]\n",
       "Attributes:\n",
       "    long_name:      wind speed\n",
       "    units:          m/s\n",
       "    valid_min:      0.0\n",
       "    valid_max:      6000.0\n",
       "    standard_name:  wind_speed, 'eastward_wind': <xarray.Variable (time: 1, depth: 1, latitude: 641, longitude: 1440)>\n",
       "[923040 values with dtype=float32]\n",
       "Attributes:\n",
       "    long_name:      eastward wind speed\n",
       "    units:          m/s\n",
       "    valid_min:      -6000.0\n",
       "    valid_max:      6000.0\n",
       "    standard_name:  eastward_wind\n",
       "    positive:       meteorological convention, 'northward_wind': <xarray.Variable (time: 1, depth: 1, latitude: 641, longitude: 1440)>\n",
       "[923040 values with dtype=float32]\n",
       "Attributes:\n",
       "    long_name:      northward wind speed\n",
       "    units:          m/s\n",
       "    valid_min:      -6000.0\n",
       "    valid_max:      6000.0\n",
       "    standard_name:  northward_wind\n",
       "    positive:       meteorological convention, 'wind_stress': <xarray.Variable (time: 1, depth: 1, latitude: 641, longitude: 1440)>\n",
       "[923040 values with dtype=float32]\n",
       "Attributes:\n",
       "    long_name:  wind stress\n",
       "    units:      Pa\n",
       "    valid_min:  0.0\n",
       "    valid_max:  25000.0, 'surface_downward_eastward_stress': <xarray.Variable (time: 1, depth: 1, latitude: 641, longitude: 1440)>\n",
       "[923040 values with dtype=float32]\n",
       "Attributes:\n",
       "    long_name:      eastward wind stress\n",
       "    units:          Pa\n",
       "    valid_min:      -25000.0\n",
       "    valid_max:      25000.0\n",
       "    standard_name:  surface_downward_eastward_stress\n",
       "    positive:       meteorological convention, 'surface_downward_northward_stress': <xarray.Variable (time: 1, depth: 1, latitude: 641, longitude: 1440)>\n",
       "[923040 values with dtype=float32]\n",
       "Attributes:\n",
       "    long_name:      northward wind stress\n",
       "    units:          Pa\n",
       "    valid_min:      -25000.0\n",
       "    valid_max:      25000.0\n",
       "    standard_name:  surface_downward_northward_stress\n",
       "    positive:       meteorological convention, 'land_ice_mask': <xarray.Variable (time: 1, depth: 1, latitude: 641, longitude: 1440)>\n",
       "[923040 values with dtype=float32]\n",
       "Attributes:\n",
       "    long_name:  flag - 0:ocean - 1:earth/ice\n",
       "    units:      1\n",
       "    valid_min:  0.0\n",
       "    valid_max:  1.0, 'wind_speed_rms': <xarray.Variable (time: 1, depth: 1, latitude: 641, longitude: 1440)>\n",
       "[923040 values with dtype=float32]\n",
       "Attributes:\n",
       "    long_name:  wind speed root mean square\n",
       "    units:      m/s\n",
       "    valid_min:  0.0\n",
       "    valid_max:  100.0, 'eastward_wind_rms': <xarray.Variable (time: 1, depth: 1, latitude: 641, longitude: 1440)>\n",
       "[923040 values with dtype=float32]\n",
       "Attributes:\n",
       "    long_name:  eastward wind speed root mean square\n",
       "    units:      m/s\n",
       "    valid_min:  0.0\n",
       "    valid_max:  100.0, 'northward_wind_rms': <xarray.Variable (time: 1, depth: 1, latitude: 641, longitude: 1440)>\n",
       "[923040 values with dtype=float32]\n",
       "Attributes:\n",
       "    long_name:  northward wind speed root mean square\n",
       "    units:      m/s\n",
       "    valid_min:  0.0\n",
       "    valid_max:  100.0, 'sampling_length': <xarray.Variable (time: 1, depth: 1, latitude: 641, longitude: 1440)>\n",
       "[923040 values with dtype=float32]\n",
       "Attributes:\n",
       "    long_name:  sampling length\n",
       "    units:      1\n",
       "    valid_min:  0.0\n",
       "    valid_max:  127.0})"
      ]
     },
     "execution_count": 126,
     "metadata": {},
     "output_type": "execute_result"
    }
   ],
   "source": [
    "A.variables"
   ]
  },
  {
   "cell_type": "code",
   "execution_count": null,
   "id": "fa1e379c",
   "metadata": {},
   "outputs": [],
   "source": []
  },
  {
   "cell_type": "code",
   "execution_count": null,
   "id": "cedaebbc",
   "metadata": {},
   "outputs": [],
   "source": []
  },
  {
   "cell_type": "code",
   "execution_count": 122,
   "id": "31a2ce5d",
   "metadata": {},
   "outputs": [
    {
     "data": {
      "text/plain": [
       "['/home/brayan/DATA/Modelo-Multimodal-de-Ondas/raw_data/TAU/2007/2007032100_daily-ifremer-L3-MWF-GLO.nc',\n",
       " '/home/brayan/DATA/Modelo-Multimodal-de-Ondas/raw_data/TAU/2007/2007032200_daily-ifremer-L3-MWF-GLO.nc',\n",
       " '/home/brayan/DATA/Modelo-Multimodal-de-Ondas/raw_data/TAU/2007/2007032300_daily-ifremer-L3-MWF-GLO.nc',\n",
       " '/home/brayan/DATA/Modelo-Multimodal-de-Ondas/raw_data/TAU/2007/2007032400_daily-ifremer-L3-MWF-GLO.nc']"
      ]
     },
     "execution_count": 122,
     "metadata": {},
     "output_type": "execute_result"
    }
   ],
   "source": [
    "list_dates"
   ]
  },
  {
   "cell_type": "code",
   "execution_count": null,
   "id": "d3fc7001",
   "metadata": {},
   "outputs": [],
   "source": []
  },
  {
   "cell_type": "code",
   "execution_count": null,
   "id": "ac1ad08c",
   "metadata": {},
   "outputs": [],
   "source": []
  },
  {
   "cell_type": "code",
   "execution_count": null,
   "id": "df806ae8",
   "metadata": {},
   "outputs": [],
   "source": []
  },
  {
   "cell_type": "code",
   "execution_count": 115,
   "id": "ff5693cd",
   "metadata": {},
   "outputs": [
    {
     "data": {
      "text/plain": [
       "[['/home/brayan/DATA/Modelo-Multimodal-de-Ondas/raw_data/TAU/2007/2007032100_daily-ifremer-L3-MWF-GLO.nc'],\n",
       " ['/home/brayan/DATA/Modelo-Multimodal-de-Ondas/raw_data/TAU/2007/2007032200_daily-ifremer-L3-MWF-GLO.nc'],\n",
       " ['/home/brayan/DATA/Modelo-Multimodal-de-Ondas/raw_data/TAU/2007/2007032300_daily-ifremer-L3-MWF-GLO.nc'],\n",
       " ['/home/brayan/DATA/Modelo-Multimodal-de-Ondas/raw_data/TAU/2007/2007032400_daily-ifremer-L3-MWF-GLO.nc']]"
      ]
     },
     "execution_count": 115,
     "metadata": {},
     "output_type": "execute_result"
    }
   ],
   "source": [
    "list_dates"
   ]
  },
  {
   "cell_type": "code",
   "execution_count": 108,
   "id": "dddffb86",
   "metadata": {},
   "outputs": [
    {
     "data": {
      "text/plain": [
       "'2007-03-24'"
      ]
     },
     "execution_count": 108,
     "metadata": {},
     "output_type": "execute_result"
    }
   ],
   "source": [
    "date_"
   ]
  },
  {
   "cell_type": "code",
   "execution_count": 90,
   "id": "693f9520",
   "metadata": {},
   "outputs": [
    {
     "data": {
      "text/plain": [
       "'20070321'"
      ]
     },
     "execution_count": 90,
     "metadata": {},
     "output_type": "execute_result"
    }
   ],
   "source": [
    "\"\".join(list_dates[0].split(\"-\"))"
   ]
  },
  {
   "cell_type": "code",
   "execution_count": 100,
   "id": "1459b488",
   "metadata": {},
   "outputs": [
    {
     "data": {
      "text/plain": [
       "['2007-03-21', '2007-03-22', '2007-03-23', '2007-03-24']"
      ]
     },
     "execution_count": 100,
     "metadata": {},
     "output_type": "execute_result"
    }
   ],
   "source": [
    "dates_download(init_date_update, end_date_update)"
   ]
  },
  {
   "cell_type": "code",
   "execution_count": 113,
   "id": "ecff6a7b",
   "metadata": {},
   "outputs": [
    {
     "data": {
      "text/plain": [
       "['/home/brayan/DATA/Modelo-Multimodal-de-Ondas/raw_data/TAU/2007/2007032400_daily-ifremer-L3-MWF-GLO.nc']"
      ]
     },
     "execution_count": 113,
     "metadata": {},
     "output_type": "execute_result"
    }
   ],
   "source": [
    "glob.glob(OUTPUT_DIR+\"TAU/\"+date_.split(\"-\")[0]+\"/\"+\"\".join(date_.split(\"-\"))+\"*\")"
   ]
  },
  {
   "cell_type": "code",
   "execution_count": 112,
   "id": "3e44e3df",
   "metadata": {},
   "outputs": [
    {
     "data": {
      "text/plain": [
       "'/home/brayan/DATA/Modelo-Multimodal-de-Ondas/raw_data/TAU/2007/20070324*'"
      ]
     },
     "execution_count": 112,
     "metadata": {},
     "output_type": "execute_result"
    }
   ],
   "source": [
    "OUTPUT_DIR+\"TAU/\"+date_.split(\"-\")[0]+\"/\"+\"\".join(date_.split(\"-\"))+\"*\""
   ]
  },
  {
   "cell_type": "code",
   "execution_count": null,
   "id": "1a5cae52",
   "metadata": {},
   "outputs": [],
   "source": []
  },
  {
   "cell_type": "code",
   "execution_count": null,
   "id": "74bcdfd8",
   "metadata": {},
   "outputs": [],
   "source": []
  },
  {
   "cell_type": "code",
   "execution_count": null,
   "id": "a3e3daca",
   "metadata": {},
   "outputs": [],
   "source": []
  },
  {
   "cell_type": "code",
   "execution_count": null,
   "id": "07ccc20b",
   "metadata": {},
   "outputs": [],
   "source": []
  },
  {
   "cell_type": "code",
   "execution_count": null,
   "id": "3b663789",
   "metadata": {},
   "outputs": [],
   "source": []
  },
  {
   "cell_type": "code",
   "execution_count": null,
   "id": "bf696d69",
   "metadata": {},
   "outputs": [],
   "source": []
  },
  {
   "cell_type": "code",
   "execution_count": 27,
   "id": "801149ec",
   "metadata": {},
   "outputs": [
    {
     "data": {
      "text/plain": [
       "'raw_data/2007/'"
      ]
     },
     "execution_count": 27,
     "metadata": {},
     "output_type": "execute_result"
    }
   ],
   "source": [
    "f\"raw_data/{B[0][:4]}/\""
   ]
  },
  {
   "cell_type": "code",
   "execution_count": 25,
   "id": "6d39c3cc",
   "metadata": {},
   "outputs": [
    {
     "data": {
      "text/plain": [
       "'2007'"
      ]
     },
     "execution_count": 25,
     "metadata": {},
     "output_type": "execute_result"
    }
   ],
   "source": [
    "B[0].split(\"-\")[0]"
   ]
  },
  {
   "cell_type": "code",
   "execution_count": 11,
   "id": "0df50650",
   "metadata": {},
   "outputs": [],
   "source": [
    "A = pd.date_range(init_date_update, end_date_update, freq=\"D\")"
   ]
  },
  {
   "cell_type": "code",
   "execution_count": 12,
   "id": "bfaa98c9",
   "metadata": {},
   "outputs": [
    {
     "data": {
      "text/plain": [
       "DatetimeIndex(['2007-03-21', '2007-03-22', '2007-03-23', '2007-03-24',\n",
       "               '2007-03-25', '2007-03-26', '2007-03-27', '2007-03-28',\n",
       "               '2007-03-29', '2007-03-30', '2007-03-31'],\n",
       "              dtype='datetime64[ns]', freq='D')"
      ]
     },
     "execution_count": 12,
     "metadata": {},
     "output_type": "execute_result"
    }
   ],
   "source": [
    "A"
   ]
  },
  {
   "cell_type": "code",
   "execution_count": 22,
   "id": "28248c2d",
   "metadata": {},
   "outputs": [],
   "source": [
    "B = [str(i)[:10] for i in A.values]"
   ]
  },
  {
   "cell_type": "code",
   "execution_count": null,
   "id": "3b35e94f",
   "metadata": {},
   "outputs": [],
   "source": []
  }
 ],
 "metadata": {
  "kernelspec": {
   "display_name": "pangeo",
   "language": "python",
   "name": "pangeo"
  },
  "language_info": {
   "codemirror_mode": {
    "name": "ipython",
    "version": 3
   },
   "file_extension": ".py",
   "mimetype": "text/x-python",
   "name": "python",
   "nbconvert_exporter": "python",
   "pygments_lexer": "ipython3",
   "version": "3.7.6"
  }
 },
 "nbformat": 4,
 "nbformat_minor": 5
}
